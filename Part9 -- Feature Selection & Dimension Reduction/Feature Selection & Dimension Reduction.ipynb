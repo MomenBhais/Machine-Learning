{
 "cells": [
  {
   "cell_type": "markdown",
   "id": "e94b34a0-23ea-4873-8e0d-10df21af7cfa",
   "metadata": {
    "jp-MarkdownHeadingCollapsed": true
   },
   "source": [
    "## LIBs"
   ]
  },
  {
   "cell_type": "code",
   "execution_count": 5,
   "id": "0971f313-3f8f-4d71-a317-a98197f48f68",
   "metadata": {},
   "outputs": [],
   "source": [
    "import pandas as pd \n",
    "import numpy as np\n",
    "\n",
    "from sklearn.model_selection import train_test_split\n",
    "from sklearn.metrics import classification_report\n",
    "\n",
    "from sklearn.tree import DecisionTreeClassifier"
   ]
  },
  {
   "cell_type": "markdown",
   "id": "85dfa8b1-665f-48d9-9ea2-8f2d51c8719a",
   "metadata": {
    "jp-MarkdownHeadingCollapsed": true
   },
   "source": [
    "## DATA"
   ]
  },
  {
   "cell_type": "code",
   "execution_count": 7,
   "id": "33420e98-f321-425e-997d-bf88bffb8202",
   "metadata": {},
   "outputs": [],
   "source": [
    "from sklearn.datasets import load_breast_cancer"
   ]
  },
  {
   "cell_type": "code",
   "execution_count": 9,
   "id": "9bfe7c29-270b-4125-ac65-41670fa2ccae",
   "metadata": {},
   "outputs": [
    {
     "data": {
      "text/plain": [
       "{'data': array([[1.799e+01, 1.038e+01, 1.228e+02, ..., 2.654e-01, 4.601e-01,\n",
       "         1.189e-01],\n",
       "        [2.057e+01, 1.777e+01, 1.329e+02, ..., 1.860e-01, 2.750e-01,\n",
       "         8.902e-02],\n",
       "        [1.969e+01, 2.125e+01, 1.300e+02, ..., 2.430e-01, 3.613e-01,\n",
       "         8.758e-02],\n",
       "        ...,\n",
       "        [1.660e+01, 2.808e+01, 1.083e+02, ..., 1.418e-01, 2.218e-01,\n",
       "         7.820e-02],\n",
       "        [2.060e+01, 2.933e+01, 1.401e+02, ..., 2.650e-01, 4.087e-01,\n",
       "         1.240e-01],\n",
       "        [7.760e+00, 2.454e+01, 4.792e+01, ..., 0.000e+00, 2.871e-01,\n",
       "         7.039e-02]]),\n",
       " 'target': array([0, 0, 0, 0, 0, 0, 0, 0, 0, 0, 0, 0, 0, 0, 0, 0, 0, 0, 0, 1, 1, 1,\n",
       "        0, 0, 0, 0, 0, 0, 0, 0, 0, 0, 0, 0, 0, 0, 0, 1, 0, 0, 0, 0, 0, 0,\n",
       "        0, 0, 1, 0, 1, 1, 1, 1, 1, 0, 0, 1, 0, 0, 1, 1, 1, 1, 0, 1, 0, 0,\n",
       "        1, 1, 1, 1, 0, 1, 0, 0, 1, 0, 1, 0, 0, 1, 1, 1, 0, 0, 1, 0, 0, 0,\n",
       "        1, 1, 1, 0, 1, 1, 0, 0, 1, 1, 1, 0, 0, 1, 1, 1, 1, 0, 1, 1, 0, 1,\n",
       "        1, 1, 1, 1, 1, 1, 1, 0, 0, 0, 1, 0, 0, 1, 1, 1, 0, 0, 1, 0, 1, 0,\n",
       "        0, 1, 0, 0, 1, 1, 0, 1, 1, 0, 1, 1, 1, 1, 0, 1, 1, 1, 1, 1, 1, 1,\n",
       "        1, 1, 0, 1, 1, 1, 1, 0, 0, 1, 0, 1, 1, 0, 0, 1, 1, 0, 0, 1, 1, 1,\n",
       "        1, 0, 1, 1, 0, 0, 0, 1, 0, 1, 0, 1, 1, 1, 0, 1, 1, 0, 0, 1, 0, 0,\n",
       "        0, 0, 1, 0, 0, 0, 1, 0, 1, 0, 1, 1, 0, 1, 0, 0, 0, 0, 1, 1, 0, 0,\n",
       "        1, 1, 1, 0, 1, 1, 1, 1, 1, 0, 0, 1, 1, 0, 1, 1, 0, 0, 1, 0, 1, 1,\n",
       "        1, 1, 0, 1, 1, 1, 1, 1, 0, 1, 0, 0, 0, 0, 0, 0, 0, 0, 0, 0, 0, 0,\n",
       "        0, 0, 1, 1, 1, 1, 1, 1, 0, 1, 0, 1, 1, 0, 1, 1, 0, 1, 0, 0, 1, 1,\n",
       "        1, 1, 1, 1, 1, 1, 1, 1, 1, 1, 1, 0, 1, 1, 0, 1, 0, 1, 1, 1, 1, 1,\n",
       "        1, 1, 1, 1, 1, 1, 1, 1, 1, 0, 1, 1, 1, 0, 1, 0, 1, 1, 1, 1, 0, 0,\n",
       "        0, 1, 1, 1, 1, 0, 1, 0, 1, 0, 1, 1, 1, 0, 1, 1, 1, 1, 1, 1, 1, 0,\n",
       "        0, 0, 1, 1, 1, 1, 1, 1, 1, 1, 1, 1, 1, 0, 0, 1, 0, 0, 0, 1, 0, 0,\n",
       "        1, 1, 1, 1, 1, 0, 1, 1, 1, 1, 1, 0, 1, 1, 1, 0, 1, 1, 0, 0, 1, 1,\n",
       "        1, 1, 1, 1, 0, 1, 1, 1, 1, 1, 1, 1, 0, 1, 1, 1, 1, 1, 0, 1, 1, 0,\n",
       "        1, 1, 1, 1, 1, 1, 1, 1, 1, 1, 1, 1, 0, 1, 0, 0, 1, 0, 1, 1, 1, 1,\n",
       "        1, 0, 1, 1, 0, 1, 0, 1, 1, 0, 1, 0, 1, 1, 1, 1, 1, 1, 1, 1, 0, 0,\n",
       "        1, 1, 1, 1, 1, 1, 0, 1, 1, 1, 1, 1, 1, 1, 1, 1, 1, 0, 1, 1, 1, 1,\n",
       "        1, 1, 1, 0, 1, 0, 1, 1, 0, 1, 1, 1, 1, 1, 0, 0, 1, 0, 1, 0, 1, 1,\n",
       "        1, 1, 1, 0, 1, 1, 0, 1, 0, 1, 0, 0, 1, 1, 1, 0, 1, 1, 1, 1, 1, 1,\n",
       "        1, 1, 1, 1, 1, 0, 1, 0, 0, 1, 1, 1, 1, 1, 1, 1, 1, 1, 1, 1, 1, 1,\n",
       "        1, 1, 1, 1, 1, 1, 1, 1, 1, 1, 1, 1, 0, 0, 0, 0, 0, 0, 1]),\n",
       " 'frame': None,\n",
       " 'target_names': array(['malignant', 'benign'], dtype='<U9'),\n",
       " 'DESCR': '.. _breast_cancer_dataset:\\n\\nBreast cancer wisconsin (diagnostic) dataset\\n--------------------------------------------\\n\\n**Data Set Characteristics:**\\n\\n:Number of Instances: 569\\n\\n:Number of Attributes: 30 numeric, predictive attributes and the class\\n\\n:Attribute Information:\\n    - radius (mean of distances from center to points on the perimeter)\\n    - texture (standard deviation of gray-scale values)\\n    - perimeter\\n    - area\\n    - smoothness (local variation in radius lengths)\\n    - compactness (perimeter^2 / area - 1.0)\\n    - concavity (severity of concave portions of the contour)\\n    - concave points (number of concave portions of the contour)\\n    - symmetry\\n    - fractal dimension (\"coastline approximation\" - 1)\\n\\n    The mean, standard error, and \"worst\" or largest (mean of the three\\n    worst/largest values) of these features were computed for each image,\\n    resulting in 30 features.  For instance, field 0 is Mean Radius, field\\n    10 is Radius SE, field 20 is Worst Radius.\\n\\n    - class:\\n            - WDBC-Malignant\\n            - WDBC-Benign\\n\\n:Summary Statistics:\\n\\n===================================== ====== ======\\n                                        Min    Max\\n===================================== ====== ======\\nradius (mean):                        6.981  28.11\\ntexture (mean):                       9.71   39.28\\nperimeter (mean):                     43.79  188.5\\narea (mean):                          143.5  2501.0\\nsmoothness (mean):                    0.053  0.163\\ncompactness (mean):                   0.019  0.345\\nconcavity (mean):                     0.0    0.427\\nconcave points (mean):                0.0    0.201\\nsymmetry (mean):                      0.106  0.304\\nfractal dimension (mean):             0.05   0.097\\nradius (standard error):              0.112  2.873\\ntexture (standard error):             0.36   4.885\\nperimeter (standard error):           0.757  21.98\\narea (standard error):                6.802  542.2\\nsmoothness (standard error):          0.002  0.031\\ncompactness (standard error):         0.002  0.135\\nconcavity (standard error):           0.0    0.396\\nconcave points (standard error):      0.0    0.053\\nsymmetry (standard error):            0.008  0.079\\nfractal dimension (standard error):   0.001  0.03\\nradius (worst):                       7.93   36.04\\ntexture (worst):                      12.02  49.54\\nperimeter (worst):                    50.41  251.2\\narea (worst):                         185.2  4254.0\\nsmoothness (worst):                   0.071  0.223\\ncompactness (worst):                  0.027  1.058\\nconcavity (worst):                    0.0    1.252\\nconcave points (worst):               0.0    0.291\\nsymmetry (worst):                     0.156  0.664\\nfractal dimension (worst):            0.055  0.208\\n===================================== ====== ======\\n\\n:Missing Attribute Values: None\\n\\n:Class Distribution: 212 - Malignant, 357 - Benign\\n\\n:Creator:  Dr. William H. Wolberg, W. Nick Street, Olvi L. Mangasarian\\n\\n:Donor: Nick Street\\n\\n:Date: November, 1995\\n\\nThis is a copy of UCI ML Breast Cancer Wisconsin (Diagnostic) datasets.\\nhttps://goo.gl/U2Uwz2\\n\\nFeatures are computed from a digitized image of a fine needle\\naspirate (FNA) of a breast mass.  They describe\\ncharacteristics of the cell nuclei present in the image.\\n\\nSeparating plane described above was obtained using\\nMultisurface Method-Tree (MSM-T) [K. P. Bennett, \"Decision Tree\\nConstruction Via Linear Programming.\" Proceedings of the 4th\\nMidwest Artificial Intelligence and Cognitive Science Society,\\npp. 97-101, 1992], a classification method which uses linear\\nprogramming to construct a decision tree.  Relevant features\\nwere selected using an exhaustive search in the space of 1-4\\nfeatures and 1-3 separating planes.\\n\\nThe actual linear program used to obtain the separating plane\\nin the 3-dimensional space is that described in:\\n[K. P. Bennett and O. L. Mangasarian: \"Robust Linear\\nProgramming Discrimination of Two Linearly Inseparable Sets\",\\nOptimization Methods and Software 1, 1992, 23-34].\\n\\nThis database is also available through the UW CS ftp server:\\n\\nftp ftp.cs.wisc.edu\\ncd math-prog/cpo-dataset/machine-learn/WDBC/\\n\\n|details-start|\\n**References**\\n|details-split|\\n\\n- W.N. Street, W.H. Wolberg and O.L. Mangasarian. Nuclear feature extraction\\n  for breast tumor diagnosis. IS&T/SPIE 1993 International Symposium on\\n  Electronic Imaging: Science and Technology, volume 1905, pages 861-870,\\n  San Jose, CA, 1993.\\n- O.L. Mangasarian, W.N. Street and W.H. Wolberg. Breast cancer diagnosis and\\n  prognosis via linear programming. Operations Research, 43(4), pages 570-577,\\n  July-August 1995.\\n- W.H. Wolberg, W.N. Street, and O.L. Mangasarian. Machine learning techniques\\n  to diagnose breast cancer from fine-needle aspirates. Cancer Letters 77 (1994)\\n  163-171.\\n\\n|details-end|\\n',\n",
       " 'feature_names': array(['mean radius', 'mean texture', 'mean perimeter', 'mean area',\n",
       "        'mean smoothness', 'mean compactness', 'mean concavity',\n",
       "        'mean concave points', 'mean symmetry', 'mean fractal dimension',\n",
       "        'radius error', 'texture error', 'perimeter error', 'area error',\n",
       "        'smoothness error', 'compactness error', 'concavity error',\n",
       "        'concave points error', 'symmetry error',\n",
       "        'fractal dimension error', 'worst radius', 'worst texture',\n",
       "        'worst perimeter', 'worst area', 'worst smoothness',\n",
       "        'worst compactness', 'worst concavity', 'worst concave points',\n",
       "        'worst symmetry', 'worst fractal dimension'], dtype='<U23'),\n",
       " 'filename': 'breast_cancer.csv',\n",
       " 'data_module': 'sklearn.datasets.data'}"
      ]
     },
     "execution_count": 9,
     "metadata": {},
     "output_type": "execute_result"
    }
   ],
   "source": [
    "cancer_data = load_breast_cancer()\n",
    "cancer_data"
   ]
  },
  {
   "cell_type": "code",
   "execution_count": 11,
   "id": "6324da72-0385-4e30-8811-d79ca0416953",
   "metadata": {},
   "outputs": [
    {
     "data": {
      "text/plain": [
       "sklearn.utils._bunch.Bunch"
      ]
     },
     "execution_count": 11,
     "metadata": {},
     "output_type": "execute_result"
    }
   ],
   "source": [
    "type(cancer_data)"
   ]
  },
  {
   "cell_type": "code",
   "execution_count": 17,
   "id": "2d2a74db-ecc9-4f47-b611-1d729c77f429",
   "metadata": {},
   "outputs": [
    {
     "data": {
      "text/plain": [
       "array(['mean radius', 'mean texture', 'mean perimeter', 'mean area',\n",
       "       'mean smoothness', 'mean compactness', 'mean concavity',\n",
       "       'mean concave points', 'mean symmetry', 'mean fractal dimension',\n",
       "       'radius error', 'texture error', 'perimeter error', 'area error',\n",
       "       'smoothness error', 'compactness error', 'concavity error',\n",
       "       'concave points error', 'symmetry error',\n",
       "       'fractal dimension error', 'worst radius', 'worst texture',\n",
       "       'worst perimeter', 'worst area', 'worst smoothness',\n",
       "       'worst compactness', 'worst concavity', 'worst concave points',\n",
       "       'worst symmetry', 'worst fractal dimension'], dtype='<U23')"
      ]
     },
     "execution_count": 17,
     "metadata": {},
     "output_type": "execute_result"
    }
   ],
   "source": [
    "cancer_data['feature_names']"
   ]
  },
  {
   "cell_type": "code",
   "execution_count": 19,
   "id": "3f1d0a98-fe18-4fa5-a9f1-64636259838e",
   "metadata": {},
   "outputs": [],
   "source": [
    "x = pd.DataFrame(cancer_data['data'], columns = cancer_data['feature_names'])"
   ]
  },
  {
   "cell_type": "code",
   "execution_count": 21,
   "id": "040c4af4-a86b-4d6f-b1cd-223bffbe4f74",
   "metadata": {},
   "outputs": [
    {
     "data": {
      "text/html": [
       "<div>\n",
       "<style scoped>\n",
       "    .dataframe tbody tr th:only-of-type {\n",
       "        vertical-align: middle;\n",
       "    }\n",
       "\n",
       "    .dataframe tbody tr th {\n",
       "        vertical-align: top;\n",
       "    }\n",
       "\n",
       "    .dataframe thead th {\n",
       "        text-align: right;\n",
       "    }\n",
       "</style>\n",
       "<table border=\"1\" class=\"dataframe\">\n",
       "  <thead>\n",
       "    <tr style=\"text-align: right;\">\n",
       "      <th></th>\n",
       "      <th>mean radius</th>\n",
       "      <th>mean texture</th>\n",
       "      <th>mean perimeter</th>\n",
       "      <th>mean area</th>\n",
       "      <th>mean smoothness</th>\n",
       "      <th>mean compactness</th>\n",
       "      <th>mean concavity</th>\n",
       "      <th>mean concave points</th>\n",
       "      <th>mean symmetry</th>\n",
       "      <th>mean fractal dimension</th>\n",
       "      <th>...</th>\n",
       "      <th>worst radius</th>\n",
       "      <th>worst texture</th>\n",
       "      <th>worst perimeter</th>\n",
       "      <th>worst area</th>\n",
       "      <th>worst smoothness</th>\n",
       "      <th>worst compactness</th>\n",
       "      <th>worst concavity</th>\n",
       "      <th>worst concave points</th>\n",
       "      <th>worst symmetry</th>\n",
       "      <th>worst fractal dimension</th>\n",
       "    </tr>\n",
       "  </thead>\n",
       "  <tbody>\n",
       "    <tr>\n",
       "      <th>0</th>\n",
       "      <td>17.99</td>\n",
       "      <td>10.38</td>\n",
       "      <td>122.80</td>\n",
       "      <td>1001.0</td>\n",
       "      <td>0.11840</td>\n",
       "      <td>0.27760</td>\n",
       "      <td>0.3001</td>\n",
       "      <td>0.14710</td>\n",
       "      <td>0.2419</td>\n",
       "      <td>0.07871</td>\n",
       "      <td>...</td>\n",
       "      <td>25.38</td>\n",
       "      <td>17.33</td>\n",
       "      <td>184.60</td>\n",
       "      <td>2019.0</td>\n",
       "      <td>0.1622</td>\n",
       "      <td>0.6656</td>\n",
       "      <td>0.7119</td>\n",
       "      <td>0.2654</td>\n",
       "      <td>0.4601</td>\n",
       "      <td>0.11890</td>\n",
       "    </tr>\n",
       "    <tr>\n",
       "      <th>1</th>\n",
       "      <td>20.57</td>\n",
       "      <td>17.77</td>\n",
       "      <td>132.90</td>\n",
       "      <td>1326.0</td>\n",
       "      <td>0.08474</td>\n",
       "      <td>0.07864</td>\n",
       "      <td>0.0869</td>\n",
       "      <td>0.07017</td>\n",
       "      <td>0.1812</td>\n",
       "      <td>0.05667</td>\n",
       "      <td>...</td>\n",
       "      <td>24.99</td>\n",
       "      <td>23.41</td>\n",
       "      <td>158.80</td>\n",
       "      <td>1956.0</td>\n",
       "      <td>0.1238</td>\n",
       "      <td>0.1866</td>\n",
       "      <td>0.2416</td>\n",
       "      <td>0.1860</td>\n",
       "      <td>0.2750</td>\n",
       "      <td>0.08902</td>\n",
       "    </tr>\n",
       "    <tr>\n",
       "      <th>2</th>\n",
       "      <td>19.69</td>\n",
       "      <td>21.25</td>\n",
       "      <td>130.00</td>\n",
       "      <td>1203.0</td>\n",
       "      <td>0.10960</td>\n",
       "      <td>0.15990</td>\n",
       "      <td>0.1974</td>\n",
       "      <td>0.12790</td>\n",
       "      <td>0.2069</td>\n",
       "      <td>0.05999</td>\n",
       "      <td>...</td>\n",
       "      <td>23.57</td>\n",
       "      <td>25.53</td>\n",
       "      <td>152.50</td>\n",
       "      <td>1709.0</td>\n",
       "      <td>0.1444</td>\n",
       "      <td>0.4245</td>\n",
       "      <td>0.4504</td>\n",
       "      <td>0.2430</td>\n",
       "      <td>0.3613</td>\n",
       "      <td>0.08758</td>\n",
       "    </tr>\n",
       "    <tr>\n",
       "      <th>3</th>\n",
       "      <td>11.42</td>\n",
       "      <td>20.38</td>\n",
       "      <td>77.58</td>\n",
       "      <td>386.1</td>\n",
       "      <td>0.14250</td>\n",
       "      <td>0.28390</td>\n",
       "      <td>0.2414</td>\n",
       "      <td>0.10520</td>\n",
       "      <td>0.2597</td>\n",
       "      <td>0.09744</td>\n",
       "      <td>...</td>\n",
       "      <td>14.91</td>\n",
       "      <td>26.50</td>\n",
       "      <td>98.87</td>\n",
       "      <td>567.7</td>\n",
       "      <td>0.2098</td>\n",
       "      <td>0.8663</td>\n",
       "      <td>0.6869</td>\n",
       "      <td>0.2575</td>\n",
       "      <td>0.6638</td>\n",
       "      <td>0.17300</td>\n",
       "    </tr>\n",
       "    <tr>\n",
       "      <th>4</th>\n",
       "      <td>20.29</td>\n",
       "      <td>14.34</td>\n",
       "      <td>135.10</td>\n",
       "      <td>1297.0</td>\n",
       "      <td>0.10030</td>\n",
       "      <td>0.13280</td>\n",
       "      <td>0.1980</td>\n",
       "      <td>0.10430</td>\n",
       "      <td>0.1809</td>\n",
       "      <td>0.05883</td>\n",
       "      <td>...</td>\n",
       "      <td>22.54</td>\n",
       "      <td>16.67</td>\n",
       "      <td>152.20</td>\n",
       "      <td>1575.0</td>\n",
       "      <td>0.1374</td>\n",
       "      <td>0.2050</td>\n",
       "      <td>0.4000</td>\n",
       "      <td>0.1625</td>\n",
       "      <td>0.2364</td>\n",
       "      <td>0.07678</td>\n",
       "    </tr>\n",
       "  </tbody>\n",
       "</table>\n",
       "<p>5 rows × 30 columns</p>\n",
       "</div>"
      ],
      "text/plain": [
       "   mean radius  mean texture  mean perimeter  mean area  mean smoothness  \\\n",
       "0        17.99         10.38          122.80     1001.0          0.11840   \n",
       "1        20.57         17.77          132.90     1326.0          0.08474   \n",
       "2        19.69         21.25          130.00     1203.0          0.10960   \n",
       "3        11.42         20.38           77.58      386.1          0.14250   \n",
       "4        20.29         14.34          135.10     1297.0          0.10030   \n",
       "\n",
       "   mean compactness  mean concavity  mean concave points  mean symmetry  \\\n",
       "0           0.27760          0.3001              0.14710         0.2419   \n",
       "1           0.07864          0.0869              0.07017         0.1812   \n",
       "2           0.15990          0.1974              0.12790         0.2069   \n",
       "3           0.28390          0.2414              0.10520         0.2597   \n",
       "4           0.13280          0.1980              0.10430         0.1809   \n",
       "\n",
       "   mean fractal dimension  ...  worst radius  worst texture  worst perimeter  \\\n",
       "0                 0.07871  ...         25.38          17.33           184.60   \n",
       "1                 0.05667  ...         24.99          23.41           158.80   \n",
       "2                 0.05999  ...         23.57          25.53           152.50   \n",
       "3                 0.09744  ...         14.91          26.50            98.87   \n",
       "4                 0.05883  ...         22.54          16.67           152.20   \n",
       "\n",
       "   worst area  worst smoothness  worst compactness  worst concavity  \\\n",
       "0      2019.0            0.1622             0.6656           0.7119   \n",
       "1      1956.0            0.1238             0.1866           0.2416   \n",
       "2      1709.0            0.1444             0.4245           0.4504   \n",
       "3       567.7            0.2098             0.8663           0.6869   \n",
       "4      1575.0            0.1374             0.2050           0.4000   \n",
       "\n",
       "   worst concave points  worst symmetry  worst fractal dimension  \n",
       "0                0.2654          0.4601                  0.11890  \n",
       "1                0.1860          0.2750                  0.08902  \n",
       "2                0.2430          0.3613                  0.08758  \n",
       "3                0.2575          0.6638                  0.17300  \n",
       "4                0.1625          0.2364                  0.07678  \n",
       "\n",
       "[5 rows x 30 columns]"
      ]
     },
     "execution_count": 21,
     "metadata": {},
     "output_type": "execute_result"
    }
   ],
   "source": [
    "x.head()"
   ]
  },
  {
   "cell_type": "code",
   "execution_count": 27,
   "id": "8188d7e9-0e92-4820-96b7-106dd65b1c2a",
   "metadata": {},
   "outputs": [
    {
     "name": "stdout",
     "output_type": "stream",
     "text": [
      "<class 'pandas.core.frame.DataFrame'>\n",
      "RangeIndex: 569 entries, 0 to 568\n",
      "Data columns (total 30 columns):\n",
      " #   Column                   Non-Null Count  Dtype  \n",
      "---  ------                   --------------  -----  \n",
      " 0   mean radius              569 non-null    float64\n",
      " 1   mean texture             569 non-null    float64\n",
      " 2   mean perimeter           569 non-null    float64\n",
      " 3   mean area                569 non-null    float64\n",
      " 4   mean smoothness          569 non-null    float64\n",
      " 5   mean compactness         569 non-null    float64\n",
      " 6   mean concavity           569 non-null    float64\n",
      " 7   mean concave points      569 non-null    float64\n",
      " 8   mean symmetry            569 non-null    float64\n",
      " 9   mean fractal dimension   569 non-null    float64\n",
      " 10  radius error             569 non-null    float64\n",
      " 11  texture error            569 non-null    float64\n",
      " 12  perimeter error          569 non-null    float64\n",
      " 13  area error               569 non-null    float64\n",
      " 14  smoothness error         569 non-null    float64\n",
      " 15  compactness error        569 non-null    float64\n",
      " 16  concavity error          569 non-null    float64\n",
      " 17  concave points error     569 non-null    float64\n",
      " 18  symmetry error           569 non-null    float64\n",
      " 19  fractal dimension error  569 non-null    float64\n",
      " 20  worst radius             569 non-null    float64\n",
      " 21  worst texture            569 non-null    float64\n",
      " 22  worst perimeter          569 non-null    float64\n",
      " 23  worst area               569 non-null    float64\n",
      " 24  worst smoothness         569 non-null    float64\n",
      " 25  worst compactness        569 non-null    float64\n",
      " 26  worst concavity          569 non-null    float64\n",
      " 27  worst concave points     569 non-null    float64\n",
      " 28  worst symmetry           569 non-null    float64\n",
      " 29  worst fractal dimension  569 non-null    float64\n",
      "dtypes: float64(30)\n",
      "memory usage: 133.5 KB\n"
     ]
    }
   ],
   "source": [
    "x.info()"
   ]
  },
  {
   "cell_type": "code",
   "execution_count": 23,
   "id": "690eec54-a5fe-44c3-960a-32abc3b502c0",
   "metadata": {},
   "outputs": [
    {
     "data": {
      "text/plain": [
       "array([0, 0, 0, 0, 0, 0, 0, 0, 0, 0, 0, 0, 0, 0, 0, 0, 0, 0, 0, 1, 1, 1,\n",
       "       0, 0, 0, 0, 0, 0, 0, 0, 0, 0, 0, 0, 0, 0, 0, 1, 0, 0, 0, 0, 0, 0,\n",
       "       0, 0, 1, 0, 1, 1, 1, 1, 1, 0, 0, 1, 0, 0, 1, 1, 1, 1, 0, 1, 0, 0,\n",
       "       1, 1, 1, 1, 0, 1, 0, 0, 1, 0, 1, 0, 0, 1, 1, 1, 0, 0, 1, 0, 0, 0,\n",
       "       1, 1, 1, 0, 1, 1, 0, 0, 1, 1, 1, 0, 0, 1, 1, 1, 1, 0, 1, 1, 0, 1,\n",
       "       1, 1, 1, 1, 1, 1, 1, 0, 0, 0, 1, 0, 0, 1, 1, 1, 0, 0, 1, 0, 1, 0,\n",
       "       0, 1, 0, 0, 1, 1, 0, 1, 1, 0, 1, 1, 1, 1, 0, 1, 1, 1, 1, 1, 1, 1,\n",
       "       1, 1, 0, 1, 1, 1, 1, 0, 0, 1, 0, 1, 1, 0, 0, 1, 1, 0, 0, 1, 1, 1,\n",
       "       1, 0, 1, 1, 0, 0, 0, 1, 0, 1, 0, 1, 1, 1, 0, 1, 1, 0, 0, 1, 0, 0,\n",
       "       0, 0, 1, 0, 0, 0, 1, 0, 1, 0, 1, 1, 0, 1, 0, 0, 0, 0, 1, 1, 0, 0,\n",
       "       1, 1, 1, 0, 1, 1, 1, 1, 1, 0, 0, 1, 1, 0, 1, 1, 0, 0, 1, 0, 1, 1,\n",
       "       1, 1, 0, 1, 1, 1, 1, 1, 0, 1, 0, 0, 0, 0, 0, 0, 0, 0, 0, 0, 0, 0,\n",
       "       0, 0, 1, 1, 1, 1, 1, 1, 0, 1, 0, 1, 1, 0, 1, 1, 0, 1, 0, 0, 1, 1,\n",
       "       1, 1, 1, 1, 1, 1, 1, 1, 1, 1, 1, 0, 1, 1, 0, 1, 0, 1, 1, 1, 1, 1,\n",
       "       1, 1, 1, 1, 1, 1, 1, 1, 1, 0, 1, 1, 1, 0, 1, 0, 1, 1, 1, 1, 0, 0,\n",
       "       0, 1, 1, 1, 1, 0, 1, 0, 1, 0, 1, 1, 1, 0, 1, 1, 1, 1, 1, 1, 1, 0,\n",
       "       0, 0, 1, 1, 1, 1, 1, 1, 1, 1, 1, 1, 1, 0, 0, 1, 0, 0, 0, 1, 0, 0,\n",
       "       1, 1, 1, 1, 1, 0, 1, 1, 1, 1, 1, 0, 1, 1, 1, 0, 1, 1, 0, 0, 1, 1,\n",
       "       1, 1, 1, 1, 0, 1, 1, 1, 1, 1, 1, 1, 0, 1, 1, 1, 1, 1, 0, 1, 1, 0,\n",
       "       1, 1, 1, 1, 1, 1, 1, 1, 1, 1, 1, 1, 0, 1, 0, 0, 1, 0, 1, 1, 1, 1,\n",
       "       1, 0, 1, 1, 0, 1, 0, 1, 1, 0, 1, 0, 1, 1, 1, 1, 1, 1, 1, 1, 0, 0,\n",
       "       1, 1, 1, 1, 1, 1, 0, 1, 1, 1, 1, 1, 1, 1, 1, 1, 1, 0, 1, 1, 1, 1,\n",
       "       1, 1, 1, 0, 1, 0, 1, 1, 0, 1, 1, 1, 1, 1, 0, 0, 1, 0, 1, 0, 1, 1,\n",
       "       1, 1, 1, 0, 1, 1, 0, 1, 0, 1, 0, 0, 1, 1, 1, 0, 1, 1, 1, 1, 1, 1,\n",
       "       1, 1, 1, 1, 1, 0, 1, 0, 0, 1, 1, 1, 1, 1, 1, 1, 1, 1, 1, 1, 1, 1,\n",
       "       1, 1, 1, 1, 1, 1, 1, 1, 1, 1, 1, 1, 0, 0, 0, 0, 0, 0, 1])"
      ]
     },
     "execution_count": 23,
     "metadata": {},
     "output_type": "execute_result"
    }
   ],
   "source": [
    "y = cancer_data['target']\n",
    "y"
   ]
  },
  {
   "cell_type": "code",
   "execution_count": 25,
   "id": "881d6a29-a13f-4f5f-a889-68e86f76aae3",
   "metadata": {},
   "outputs": [],
   "source": [
    "x_train , x_test , y_train,y_test = train_test_split(x,y,\n",
    "                                                    test_size = 0.2,\n",
    "                                                    random_state = 0)"
   ]
  },
  {
   "cell_type": "markdown",
   "id": "4630d110-0080-4cf1-a1d1-ebde0ef09254",
   "metadata": {
    "jp-MarkdownHeadingCollapsed": true
   },
   "source": [
    "## Modeling -- Normal"
   ]
  },
  {
   "cell_type": "code",
   "execution_count": 32,
   "id": "da391c3d-4440-4754-9fd1-201e56aba604",
   "metadata": {},
   "outputs": [
    {
     "name": "stdout",
     "output_type": "stream",
     "text": [
      "              precision    recall  f1-score   support\n",
      "\n",
      "           0       0.86      0.91      0.89        47\n",
      "           1       0.94      0.90      0.92        67\n",
      "\n",
      "    accuracy                           0.90       114\n",
      "   macro avg       0.90      0.91      0.90       114\n",
      "weighted avg       0.91      0.90      0.90       114\n",
      "\n"
     ]
    }
   ],
   "source": [
    "dt = DecisionTreeClassifier()\n",
    "dt.fit(x_train,y_train)\n",
    "y_pred = dt.predict(x_test)\n",
    "print(classification_report(y_test,y_pred))"
   ]
  },
  {
   "cell_type": "markdown",
   "id": "f48163ee-6552-48f8-b3ce-359254f98a6a",
   "metadata": {
    "jp-MarkdownHeadingCollapsed": true
   },
   "source": [
    "## Dimension Reduction -- PCA"
   ]
  },
  {
   "cell_type": "code",
   "execution_count": 37,
   "id": "e6624eaa-f3f6-4ce9-a7d6-87d9abf36d46",
   "metadata": {},
   "outputs": [],
   "source": [
    "from sklearn.decomposition import PCA"
   ]
  },
  {
   "cell_type": "code",
   "execution_count": 91,
   "id": "af25f7a4-1054-4a54-b8ca-31e8bafce2f6",
   "metadata": {},
   "outputs": [],
   "source": [
    "pca = PCA(n_components = 10)"
   ]
  },
  {
   "cell_type": "code",
   "execution_count": 93,
   "id": "1c1e9336-1bb5-4fc4-b4d6-de51d98cad8f",
   "metadata": {},
   "outputs": [],
   "source": [
    "x_train_pca = pca.fit_transform(x_train)\n",
    "x_test_pca = pca.transform(x_test)"
   ]
  },
  {
   "cell_type": "code",
   "execution_count": 95,
   "id": "63252688-f039-454c-8fcd-4250fa1a6763",
   "metadata": {},
   "outputs": [
    {
     "data": {
      "text/plain": [
       "(455, 30)"
      ]
     },
     "execution_count": 95,
     "metadata": {},
     "output_type": "execute_result"
    }
   ],
   "source": [
    "x_train.shape"
   ]
  },
  {
   "cell_type": "code",
   "execution_count": 97,
   "id": "963caca7-b24e-4c8e-9c3a-4d0da6039f51",
   "metadata": {},
   "outputs": [
    {
     "data": {
      "text/plain": [
       "(455, 10)"
      ]
     },
     "execution_count": 97,
     "metadata": {},
     "output_type": "execute_result"
    }
   ],
   "source": [
    "x_train_pca.shape"
   ]
  },
  {
   "cell_type": "code",
   "execution_count": 99,
   "id": "f6e4a453-e217-42b5-8e23-5127b44f2cfe",
   "metadata": {},
   "outputs": [
    {
     "data": {
      "text/plain": [
       "array([[-6.04753682e+02, -3.88235725e+01,  1.27036258e+01, ...,\n",
       "        -5.35811897e-01,  1.58740280e-01,  1.66681516e-01],\n",
       "       [-4.88463997e+02, -5.10471286e+01,  9.05491820e+00, ...,\n",
       "         8.51387188e-02, -2.50357093e-01,  7.50227379e-02],\n",
       "       [ 1.31695999e+02,  9.07258194e+01, -2.87732561e+01, ...,\n",
       "         2.46682158e-01, -1.18298990e-01,  7.43518748e-02],\n",
       "       ...,\n",
       "       [-5.72905390e+02, -9.48487001e+01,  2.61978133e+01, ...,\n",
       "        -2.36640162e-01, -7.48525341e-01, -2.60257844e-01],\n",
       "       [-6.85294859e+02, -1.68240161e+01,  2.22812726e+01, ...,\n",
       "        -2.51499394e+00,  3.15282155e-01,  2.47090317e+00],\n",
       "       [-4.79252970e+02, -5.75300937e+00,  3.78706109e+00, ...,\n",
       "        -8.97344174e-01,  3.58874875e-01,  3.67488569e-01]])"
      ]
     },
     "execution_count": 99,
     "metadata": {},
     "output_type": "execute_result"
    }
   ],
   "source": [
    "x_train_pca"
   ]
  },
  {
   "cell_type": "code",
   "execution_count": 101,
   "id": "a66ad86e-0683-4994-bec9-c082431346ae",
   "metadata": {},
   "outputs": [
    {
     "data": {
      "text/plain": [
       "0.9999998983098962"
      ]
     },
     "execution_count": 101,
     "metadata": {},
     "output_type": "execute_result"
    }
   ],
   "source": [
    "pca.explained_variance_ratio_.sum()"
   ]
  },
  {
   "cell_type": "code",
   "execution_count": 105,
   "id": "2f9730cc-978f-4004-81b3-3e4854aa85ef",
   "metadata": {},
   "outputs": [
    {
     "name": "stdout",
     "output_type": "stream",
     "text": [
      "              precision    recall  f1-score   support\n",
      "\n",
      "           0       0.96      0.91      0.93        47\n",
      "           1       0.94      0.97      0.96        67\n",
      "\n",
      "    accuracy                           0.95       114\n",
      "   macro avg       0.95      0.94      0.95       114\n",
      "weighted avg       0.95      0.95      0.95       114\n",
      "\n"
     ]
    }
   ],
   "source": [
    "dt = DecisionTreeClassifier()\n",
    "dt.fit(x_train_pca,y_train)\n",
    "y_pred = dt.predict(x_test_pca)\n",
    "print(classification_report(y_test,y_pred))"
   ]
  },
  {
   "cell_type": "markdown",
   "id": "79ff7ff0-a13c-443c-a348-7efdbf155fd7",
   "metadata": {},
   "source": [
    "## Feature Selection"
   ]
  },
  {
   "cell_type": "markdown",
   "id": "b5a8ed91-c843-4abc-b387-68f5be5fec85",
   "metadata": {
    "jp-MarkdownHeadingCollapsed": true
   },
   "source": [
    "### information gain"
   ]
  },
  {
   "cell_type": "code",
   "execution_count": 109,
   "id": "e6d61d2f-51e5-44a0-8963-805e28f0e059",
   "metadata": {},
   "outputs": [],
   "source": [
    "from sklearn.feature_selection import mutual_info_classif, mutual_info_regression"
   ]
  },
  {
   "cell_type": "code",
   "execution_count": 111,
   "id": "e7ca6562-a11d-4736-919b-9863ded4933c",
   "metadata": {},
   "outputs": [],
   "source": [
    "info_gain = mutual_info_classif(cancer_data.data,y)"
   ]
  },
  {
   "cell_type": "code",
   "execution_count": 113,
   "id": "b310fb52-4b74-4077-aeac-672b847befd8",
   "metadata": {},
   "outputs": [
    {
     "data": {
      "text/plain": [
       "array([0.36789808, 0.09876649, 0.40026236, 0.36148704, 0.07858237,\n",
       "       0.21411731, 0.37549666, 0.44051476, 0.06337517, 0.00883341,\n",
       "       0.24911511, 0.        , 0.27840228, 0.34158723, 0.01576275,\n",
       "       0.0742335 , 0.11677917, 0.12640403, 0.01528343, 0.03848493,\n",
       "       0.45509905, 0.12205528, 0.47915329, 0.46364935, 0.0981962 ,\n",
       "       0.22275955, 0.31633898, 0.43740072, 0.08895295, 0.06686489])"
      ]
     },
     "execution_count": 113,
     "metadata": {},
     "output_type": "execute_result"
    }
   ],
   "source": [
    "info_gain"
   ]
  },
  {
   "cell_type": "code",
   "execution_count": 115,
   "id": "630064a6-8b25-44d7-8bf7-552873111174",
   "metadata": {},
   "outputs": [
    {
     "name": "stdout",
     "output_type": "stream",
     "text": [
      "info_gain for Feature 0:  0.3678980774875371\n",
      "info_gain for Feature 1:  0.09876648918726172\n",
      "info_gain for Feature 2:  0.40026236306698304\n",
      "info_gain for Feature 3:  0.361487036273334\n",
      "info_gain for Feature 4:  0.07858236978784672\n",
      "info_gain for Feature 5:  0.2141173142724906\n",
      "info_gain for Feature 6:  0.37549666314864494\n",
      "info_gain for Feature 7:  0.4405147627676511\n",
      "info_gain for Feature 8:  0.06337516600938153\n",
      "info_gain for Feature 9:  0.0088334052351271\n",
      "info_gain for Feature 10:  0.2491151061498924\n",
      "info_gain for Feature 11:  0.0\n",
      "info_gain for Feature 12:  0.2784022768974206\n",
      "info_gain for Feature 13:  0.3415872262563968\n",
      "info_gain for Feature 14:  0.015762745804742018\n",
      "info_gain for Feature 15:  0.07423349863672701\n",
      "info_gain for Feature 16:  0.11677917023956152\n",
      "info_gain for Feature 17:  0.12640403014375945\n",
      "info_gain for Feature 18:  0.015283430031240997\n",
      "info_gain for Feature 19:  0.03848492661269698\n",
      "info_gain for Feature 20:  0.4550990491133575\n",
      "info_gain for Feature 21:  0.12205528403665644\n",
      "info_gain for Feature 22:  0.4791532880947875\n",
      "info_gain for Feature 23:  0.463649352801335\n",
      "info_gain for Feature 24:  0.09819620133773932\n",
      "info_gain for Feature 25:  0.2227595464462755\n",
      "info_gain for Feature 26:  0.31633898289837115\n",
      "info_gain for Feature 27:  0.437400720893228\n",
      "info_gain for Feature 28:  0.08895295230769107\n",
      "info_gain for Feature 29:  0.06686489373318305\n"
     ]
    }
   ],
   "source": [
    "for feature , gain in enumerate(info_gain):\n",
    "    print(f'info_gain for Feature {feature}: ',gain)"
   ]
  },
  {
   "cell_type": "code",
   "execution_count": 141,
   "id": "26399b07-2a47-4de4-8874-97a64355d73b",
   "metadata": {},
   "outputs": [
    {
     "name": "stdout",
     "output_type": "stream",
     "text": [
      "[27  7 20 23 22]\n"
     ]
    }
   ],
   "source": [
    "k = 5\n",
    "top_k = np.argsort(info_gain)[-k:]\n",
    "print(top_k)"
   ]
  },
  {
   "cell_type": "code",
   "execution_count": 143,
   "id": "a17fe483-e761-448b-b2ee-3b1452678946",
   "metadata": {},
   "outputs": [],
   "source": [
    "x_train , x_test , y_train,y_test = train_test_split(x.values,y,\n",
    "                                                    test_size = 0.2,\n",
    "                                                    random_state = 0)"
   ]
  },
  {
   "cell_type": "code",
   "execution_count": 145,
   "id": "15ff2514-2e6c-45d9-a47d-1461c3b86659",
   "metadata": {},
   "outputs": [],
   "source": [
    "x_train_gain = x_train[:,top_k]\n",
    "x_test_gain  =x_test[:,top_k]"
   ]
  },
  {
   "cell_type": "code",
   "execution_count": 149,
   "id": "dddc9b59-22a2-411e-9e6f-188bdcc5b849",
   "metadata": {},
   "outputs": [
    {
     "name": "stdout",
     "output_type": "stream",
     "text": [
      "              precision    recall  f1-score   support\n",
      "\n",
      "           0       0.96      0.96      0.96        47\n",
      "           1       0.97      0.97      0.97        67\n",
      "\n",
      "    accuracy                           0.96       114\n",
      "   macro avg       0.96      0.96      0.96       114\n",
      "weighted avg       0.96      0.96      0.96       114\n",
      "\n"
     ]
    }
   ],
   "source": [
    "dt = DecisionTreeClassifier()\n",
    "dt.fit(x_train_gain,y_train)\n",
    "y_pred = dt.predict(x_test_gain)\n",
    "print(classification_report(y_test,y_pred))"
   ]
  },
  {
   "cell_type": "markdown",
   "id": "caea316d-626c-4c7d-98c0-e74a775fecee",
   "metadata": {
    "jp-MarkdownHeadingCollapsed": true
   },
   "source": [
    "### 2- Chi-2 Test"
   ]
  },
  {
   "cell_type": "code",
   "execution_count": 154,
   "id": "64687e4b-35b0-41cd-b26e-a58e0b37298a",
   "metadata": {},
   "outputs": [],
   "source": [
    "from sklearn.feature_selection import chi2 , SelectKBest"
   ]
  },
  {
   "cell_type": "code",
   "execution_count": 157,
   "id": "34e83e9b-67cc-423a-8434-c8e3f0a1e123",
   "metadata": {},
   "outputs": [],
   "source": [
    "chi_sq = SelectKBest(chi2, k = 5)                      "
   ]
  },
  {
   "cell_type": "code",
   "execution_count": 161,
   "id": "28f51436-e4b6-469b-8b53-b29a39e460d8",
   "metadata": {},
   "outputs": [],
   "source": [
    "x_train_chi = chi_sq.fit_transform(x_train,y_train)\n",
    "x_test_chi = chi_sq.transform(x_test)"
   ]
  },
  {
   "cell_type": "code",
   "execution_count": 163,
   "id": "8321f5c2-f52b-4584-8961-9512ef372e01",
   "metadata": {},
   "outputs": [
    {
     "name": "stdout",
     "output_type": "stream",
     "text": [
      "              precision    recall  f1-score   support\n",
      "\n",
      "           0       0.92      1.00      0.96        47\n",
      "           1       1.00      0.94      0.97        67\n",
      "\n",
      "    accuracy                           0.96       114\n",
      "   macro avg       0.96      0.97      0.96       114\n",
      "weighted avg       0.97      0.96      0.97       114\n",
      "\n"
     ]
    }
   ],
   "source": [
    "dt = DecisionTreeClassifier()\n",
    "dt.fit(x_train_chi,y_train)\n",
    "y_pred = dt.predict(x_test_chi)\n",
    "print(classification_report(y_test,y_pred))"
   ]
  },
  {
   "cell_type": "code",
   "execution_count": 165,
   "id": "848cefc7-fef6-4b06-8ccb-1ee04140a7bc",
   "metadata": {},
   "outputs": [
    {
     "data": {
      "text/plain": [
       "array([[ 64.41, 310.8 ,  16.85,  71.98, 384.  ],\n",
       "       [ 68.79, 359.9 ,  20.2 ,  83.69, 489.5 ],\n",
       "       [104.3 , 800.  ,  21.83, 115.9 , 947.9 ],\n",
       "       ...,\n",
       "       [ 59.82, 278.6 ,  30.48,  75.79, 439.6 ],\n",
       "       [ 60.73, 288.1 ,  21.69,  62.25, 303.8 ],\n",
       "       [ 74.52, 403.5 ,  16.97,  82.28, 474.2 ]])"
      ]
     },
     "execution_count": 165,
     "metadata": {},
     "output_type": "execute_result"
    }
   ],
   "source": [
    "x_train_chi"
   ]
  },
  {
   "cell_type": "code",
   "execution_count": 167,
   "id": "41286fca-d01c-43ee-8b30-f12897dbe5fc",
   "metadata": {},
   "outputs": [],
   "source": [
    "features = chi_sq.get_support(indices = True)"
   ]
  },
  {
   "cell_type": "code",
   "execution_count": 169,
   "id": "7a5e64cc-73bd-431a-b203-6855e1c4149c",
   "metadata": {},
   "outputs": [
    {
     "data": {
      "text/plain": [
       "array([ 2,  3, 13, 22, 23], dtype=int64)"
      ]
     },
     "execution_count": 169,
     "metadata": {},
     "output_type": "execute_result"
    }
   ],
   "source": [
    "features"
   ]
  },
  {
   "cell_type": "code",
   "execution_count": 173,
   "id": "22b4a857-52c8-42b3-a21e-d53238718e99",
   "metadata": {},
   "outputs": [
    {
     "data": {
      "text/plain": [
       "array(['mean perimeter', 'mean area', 'area error', 'worst perimeter',\n",
       "       'worst area'], dtype='<U23')"
      ]
     },
     "execution_count": 173,
     "metadata": {},
     "output_type": "execute_result"
    }
   ],
   "source": [
    "cancer_data['feature_names'][features]"
   ]
  },
  {
   "cell_type": "markdown",
   "id": "18513833-eefb-4efa-90da-f80d595a702e",
   "metadata": {
    "jp-MarkdownHeadingCollapsed": true
   },
   "source": [
    "### 3 - Fisher's Score "
   ]
  },
  {
   "cell_type": "code",
   "execution_count": 180,
   "id": "b0e170ff-5562-4bdf-8aea-cbe6ecd14ba4",
   "metadata": {},
   "outputs": [],
   "source": [
    "from sklearn.discriminant_analysis import LinearDiscriminantAnalysis # LDA"
   ]
  },
  {
   "cell_type": "code",
   "execution_count": 182,
   "id": "ff6bf542-5b9c-4df3-bdac-8618268dcabf",
   "metadata": {},
   "outputs": [],
   "source": [
    "lda = LinearDiscriminantAnalysis(n_components = 1)  #n_components = n_classes -1"
   ]
  },
  {
   "cell_type": "code",
   "execution_count": 186,
   "id": "26439d4f-4d15-4c94-9afc-a2427d33de5e",
   "metadata": {},
   "outputs": [],
   "source": [
    "x_train_lda= lda.fit_transform(x_train,y_train)\n",
    "x_test_lda = lda.transform(x_test)"
   ]
  },
  {
   "cell_type": "code",
   "execution_count": 188,
   "id": "f0774f56-a70a-4717-a614-47666284e944",
   "metadata": {},
   "outputs": [
    {
     "data": {
      "text/plain": [
       "array([[-2.07001845],\n",
       "       [-0.62082166],\n",
       "       [-0.43720889],\n",
       "       [-1.61228271],\n",
       "       [-0.74309534],\n",
       "       [-1.89632029],\n",
       "       [-0.40453781],\n",
       "       [-1.83844638],\n",
       "       [ 1.49977352],\n",
       "       [-0.60088194],\n",
       "       [ 4.02929963],\n",
       "       [-0.25609167],\n",
       "       [ 0.05771645],\n",
       "       [-2.04316215],\n",
       "       [-2.18245395],\n",
       "       [-2.31857982],\n",
       "       [ 1.99807578],\n",
       "       [-1.63157206],\n",
       "       [-1.99980507],\n",
       "       [-0.22097197],\n",
       "       [-0.16316866],\n",
       "       [-2.92878114],\n",
       "       [ 0.08925773],\n",
       "       [ 0.10009211],\n",
       "       [ 3.91842384],\n",
       "       [-2.48307566],\n",
       "       [-1.60856734],\n",
       "       [-1.1841597 ],\n",
       "       [ 4.07152369],\n",
       "       [-1.02692867],\n",
       "       [-1.64673126],\n",
       "       [ 3.10448622],\n",
       "       [-1.16113199],\n",
       "       [ 0.48822364],\n",
       "       [-1.3672863 ],\n",
       "       [-1.40757071],\n",
       "       [-1.43952906],\n",
       "       [-1.26611178],\n",
       "       [-0.69405747],\n",
       "       [-0.53417834],\n",
       "       [-2.59021546],\n",
       "       [ 1.5209398 ],\n",
       "       [-0.53716989],\n",
       "       [ 1.23218288],\n",
       "       [-1.78190376],\n",
       "       [ 3.81012922],\n",
       "       [ 3.85490257],\n",
       "       [-1.57352134],\n",
       "       [-0.99174653],\n",
       "       [ 2.42816661],\n",
       "       [-2.0540872 ],\n",
       "       [ 2.71601156],\n",
       "       [ 1.42263902],\n",
       "       [ 2.34543338],\n",
       "       [-0.38281491],\n",
       "       [-1.25466648],\n",
       "       [-2.53947497],\n",
       "       [-1.92031459],\n",
       "       [-2.52137024],\n",
       "       [-1.0141329 ],\n",
       "       [ 0.95495946],\n",
       "       [-4.04488217],\n",
       "       [-2.14898512],\n",
       "       [-1.92970516],\n",
       "       [-2.07404573],\n",
       "       [ 1.02554444],\n",
       "       [ 3.80495609],\n",
       "       [-1.0412235 ],\n",
       "       [-0.28994777],\n",
       "       [ 1.12143345],\n",
       "       [-2.41760205],\n",
       "       [-2.27135833],\n",
       "       [ 0.18820736],\n",
       "       [-1.18851961],\n",
       "       [ 3.16343407],\n",
       "       [-2.72920948],\n",
       "       [-2.25025065],\n",
       "       [ 2.48993635],\n",
       "       [ 1.78289315],\n",
       "       [-2.0030438 ],\n",
       "       [-1.49629389],\n",
       "       [ 4.98158359],\n",
       "       [ 4.23669662],\n",
       "       [-1.43077157],\n",
       "       [-0.88671001],\n",
       "       [-0.33195229],\n",
       "       [-1.04647444],\n",
       "       [-2.74554156],\n",
       "       [ 0.42591867],\n",
       "       [ 4.1731708 ],\n",
       "       [ 3.27878655],\n",
       "       [-2.31273026],\n",
       "       [-0.74836999],\n",
       "       [-2.24759115],\n",
       "       [ 3.08354742],\n",
       "       [-1.5675652 ],\n",
       "       [ 0.02537759],\n",
       "       [-2.62759304],\n",
       "       [-2.8907729 ],\n",
       "       [-2.25463713],\n",
       "       [ 3.92077979],\n",
       "       [-2.1542546 ],\n",
       "       [ 3.7526316 ],\n",
       "       [-0.50880228],\n",
       "       [ 1.66618199],\n",
       "       [-0.89554385],\n",
       "       [ 1.85311647],\n",
       "       [-1.03304261],\n",
       "       [ 1.39862158],\n",
       "       [-0.92194075],\n",
       "       [-0.93458825],\n",
       "       [-1.89444367],\n",
       "       [-0.98000364],\n",
       "       [ 2.66257191],\n",
       "       [-2.01704696],\n",
       "       [ 3.50999926],\n",
       "       [-0.08559016],\n",
       "       [-1.25779058],\n",
       "       [-1.55533897],\n",
       "       [ 3.06388703],\n",
       "       [-0.699652  ],\n",
       "       [-1.51215799],\n",
       "       [-1.19924966],\n",
       "       [ 3.03906239],\n",
       "       [-2.17079309],\n",
       "       [-0.49640685],\n",
       "       [ 1.48740019],\n",
       "       [ 1.96121076],\n",
       "       [-0.50647426],\n",
       "       [ 4.25814828],\n",
       "       [-0.44787956],\n",
       "       [ 1.95572508],\n",
       "       [-2.32118801],\n",
       "       [ 0.86697469],\n",
       "       [ 1.75284482],\n",
       "       [ 1.3886924 ],\n",
       "       [ 1.63459346],\n",
       "       [-0.04615836],\n",
       "       [-0.05614774],\n",
       "       [-2.03653326],\n",
       "       [ 4.67430678],\n",
       "       [-0.22886048],\n",
       "       [ 2.07579443],\n",
       "       [-1.33926608],\n",
       "       [ 2.78862463],\n",
       "       [-1.63823041],\n",
       "       [ 1.20587923],\n",
       "       [ 3.81683908],\n",
       "       [-0.7033879 ],\n",
       "       [-0.52633926],\n",
       "       [-2.31098588],\n",
       "       [-1.12677561],\n",
       "       [-1.79940145],\n",
       "       [ 0.07406645],\n",
       "       [-1.71889509],\n",
       "       [-2.59100521],\n",
       "       [-1.4194057 ],\n",
       "       [-1.1298229 ],\n",
       "       [-4.31606313],\n",
       "       [-1.48201769],\n",
       "       [-2.65693   ],\n",
       "       [ 3.21722988],\n",
       "       [-0.32561201],\n",
       "       [-1.87420071],\n",
       "       [-2.27582522],\n",
       "       [ 2.46012606],\n",
       "       [-1.60690419],\n",
       "       [-1.28881833],\n",
       "       [-0.31770737],\n",
       "       [-1.056903  ],\n",
       "       [-1.04890866],\n",
       "       [-1.22420861],\n",
       "       [ 4.28861094],\n",
       "       [-2.20817936],\n",
       "       [ 2.09984798],\n",
       "       [-2.05377063],\n",
       "       [-0.64193987],\n",
       "       [ 1.47610568],\n",
       "       [-1.74776584],\n",
       "       [ 2.58983155],\n",
       "       [ 1.71521635],\n",
       "       [-1.924587  ],\n",
       "       [ 1.89616573],\n",
       "       [ 3.82780749],\n",
       "       [-1.18037514],\n",
       "       [-1.19006537],\n",
       "       [ 1.12133953],\n",
       "       [-1.25250678],\n",
       "       [-2.3842944 ],\n",
       "       [-1.64837156],\n",
       "       [ 3.08514496],\n",
       "       [-2.26588426],\n",
       "       [-0.97322344],\n",
       "       [-1.33879867],\n",
       "       [-2.10751947],\n",
       "       [-0.55557892],\n",
       "       [ 3.78319775],\n",
       "       [ 1.9408966 ],\n",
       "       [-2.66462284],\n",
       "       [-1.37097384],\n",
       "       [-1.49497657],\n",
       "       [-1.3702706 ],\n",
       "       [ 0.55744434],\n",
       "       [ 3.41093788],\n",
       "       [-1.5332134 ],\n",
       "       [-1.66028572],\n",
       "       [-0.95451223],\n",
       "       [-0.86948344],\n",
       "       [ 0.49383004],\n",
       "       [-1.07228566],\n",
       "       [ 0.06251128],\n",
       "       [ 3.32330376],\n",
       "       [-0.13488149],\n",
       "       [-1.51199501],\n",
       "       [ 1.51958943],\n",
       "       [-2.42258455],\n",
       "       [ 2.09141438],\n",
       "       [-1.02446006],\n",
       "       [-0.5071352 ],\n",
       "       [-0.78888209],\n",
       "       [-1.08183695],\n",
       "       [ 3.35647707],\n",
       "       [ 3.55568246],\n",
       "       [-0.83487789],\n",
       "       [ 0.36796927],\n",
       "       [-2.02821151],\n",
       "       [ 2.45735166],\n",
       "       [-2.14629717],\n",
       "       [ 0.81529802],\n",
       "       [ 3.50115158],\n",
       "       [-0.89937828],\n",
       "       [-0.52915004],\n",
       "       [-1.82712421],\n",
       "       [ 0.62943496],\n",
       "       [-2.25025189],\n",
       "       [ 2.58716742],\n",
       "       [-0.80565416],\n",
       "       [-2.39881782],\n",
       "       [ 1.8716161 ],\n",
       "       [-0.4235104 ],\n",
       "       [-1.260068  ],\n",
       "       [ 3.79265535],\n",
       "       [ 3.53602248],\n",
       "       [-2.25253368],\n",
       "       [-0.89771065],\n",
       "       [-2.57305362],\n",
       "       [ 3.16838766],\n",
       "       [ 0.37025183],\n",
       "       [-0.33365896],\n",
       "       [-2.23239985],\n",
       "       [ 2.92993634],\n",
       "       [-2.20335813],\n",
       "       [ 0.07109602],\n",
       "       [-1.86866126],\n",
       "       [ 3.84033896],\n",
       "       [-1.47545979],\n",
       "       [ 4.08916605],\n",
       "       [-1.09195634],\n",
       "       [ 4.23034759],\n",
       "       [ 2.85193579],\n",
       "       [ 3.29870871],\n",
       "       [ 2.50329248],\n",
       "       [-0.64156634],\n",
       "       [-2.91201053],\n",
       "       [-1.3314261 ],\n",
       "       [-1.42592238],\n",
       "       [-0.14343968],\n",
       "       [ 1.6692839 ],\n",
       "       [-0.19160636],\n",
       "       [-1.49198171],\n",
       "       [-1.84731523],\n",
       "       [-1.74633473],\n",
       "       [-2.27151981],\n",
       "       [ 0.3503749 ],\n",
       "       [-2.35242557],\n",
       "       [-1.38001069],\n",
       "       [ 2.59166406],\n",
       "       [-1.340447  ],\n",
       "       [ 0.08417169],\n",
       "       [ 2.63888933],\n",
       "       [ 2.06934137],\n",
       "       [ 1.56118732],\n",
       "       [ 2.64094522],\n",
       "       [-1.24236183],\n",
       "       [-1.0511671 ],\n",
       "       [ 4.10518005],\n",
       "       [-1.67748463],\n",
       "       [-1.56240901],\n",
       "       [-2.19500957],\n",
       "       [ 2.09429925],\n",
       "       [ 1.98234192],\n",
       "       [-0.98534008],\n",
       "       [-0.38391506],\n",
       "       [-1.60326008],\n",
       "       [-1.83655599],\n",
       "       [-2.23984713],\n",
       "       [ 2.06305677],\n",
       "       [ 3.12707439],\n",
       "       [ 4.37038724],\n",
       "       [-0.20370645],\n",
       "       [ 1.88037492],\n",
       "       [ 5.00491081],\n",
       "       [-0.37134785],\n",
       "       [-0.96451774],\n",
       "       [-0.94479497],\n",
       "       [-1.6820303 ],\n",
       "       [-1.25119806],\n",
       "       [-0.28228293],\n",
       "       [ 2.07027289],\n",
       "       [-3.37733868],\n",
       "       [-1.2624616 ],\n",
       "       [-2.41625199],\n",
       "       [-0.10587675],\n",
       "       [-2.75701624],\n",
       "       [-0.4324537 ],\n",
       "       [ 4.31543213],\n",
       "       [ 3.23672774],\n",
       "       [-1.44503167],\n",
       "       [ 4.10475186],\n",
       "       [-1.38786996],\n",
       "       [ 2.2827762 ],\n",
       "       [ 0.39455202],\n",
       "       [-1.5271468 ],\n",
       "       [-1.36004058],\n",
       "       [-2.71493963],\n",
       "       [-0.09650471],\n",
       "       [-2.56483869],\n",
       "       [ 2.7622419 ],\n",
       "       [ 1.8137897 ],\n",
       "       [ 3.886273  ],\n",
       "       [-0.8875127 ],\n",
       "       [-3.12752732],\n",
       "       [ 3.16937048],\n",
       "       [ 2.52701791],\n",
       "       [-1.95194017],\n",
       "       [-0.35993949],\n",
       "       [ 0.75185481],\n",
       "       [-1.68192491],\n",
       "       [ 1.32172512],\n",
       "       [ 2.20569626],\n",
       "       [-1.56096423],\n",
       "       [ 0.27403446],\n",
       "       [-2.12493383],\n",
       "       [-1.81928704],\n",
       "       [-1.53638842],\n",
       "       [-0.37421008],\n",
       "       [-1.30651051],\n",
       "       [-2.39470187],\n",
       "       [-2.56374424],\n",
       "       [ 3.54427055],\n",
       "       [ 2.49834172],\n",
       "       [-0.79809639],\n",
       "       [-2.18585139],\n",
       "       [-1.63856318],\n",
       "       [ 2.60905834],\n",
       "       [-2.9623426 ],\n",
       "       [-0.98275467],\n",
       "       [-1.62487278],\n",
       "       [-1.22086751],\n",
       "       [ 2.9929128 ],\n",
       "       [-1.90384265],\n",
       "       [ 2.03193147],\n",
       "       [ 1.48350846],\n",
       "       [ 3.22730708],\n",
       "       [-1.31515746],\n",
       "       [ 3.72572937],\n",
       "       [-1.16426161],\n",
       "       [ 1.75135608],\n",
       "       [-1.09628856],\n",
       "       [ 1.68327361],\n",
       "       [ 3.36293539],\n",
       "       [-1.7181026 ],\n",
       "       [-1.40669984],\n",
       "       [-1.69025861],\n",
       "       [-2.54453555],\n",
       "       [-2.1544526 ],\n",
       "       [-1.38937603],\n",
       "       [-0.49615069],\n",
       "       [-2.04394035],\n",
       "       [ 4.04784827],\n",
       "       [ 3.02882258],\n",
       "       [ 2.00615142],\n",
       "       [ 0.45045748],\n",
       "       [ 3.18037282],\n",
       "       [-1.45343007],\n",
       "       [-0.85902929],\n",
       "       [-1.11868535],\n",
       "       [-1.52811729],\n",
       "       [-1.50603597],\n",
       "       [-1.28790661],\n",
       "       [-1.788275  ],\n",
       "       [ 3.02234382],\n",
       "       [-1.79198086],\n",
       "       [ 1.15077724],\n",
       "       [-0.88220731],\n",
       "       [-0.42043195],\n",
       "       [-0.67621943],\n",
       "       [-0.19597121],\n",
       "       [-1.01563574],\n",
       "       [ 4.04585473],\n",
       "       [ 1.94047726],\n",
       "       [ 2.37697994],\n",
       "       [-1.67932753],\n",
       "       [ 3.71006292],\n",
       "       [-0.89441587],\n",
       "       [-1.82588476],\n",
       "       [ 0.68245224],\n",
       "       [ 4.68044623],\n",
       "       [ 1.96506244],\n",
       "       [ 1.95946564],\n",
       "       [ 0.16756844],\n",
       "       [ 2.2636579 ],\n",
       "       [ 1.6330056 ],\n",
       "       [ 2.72971552],\n",
       "       [-2.00022015],\n",
       "       [ 4.57092502],\n",
       "       [-2.75010411],\n",
       "       [ 3.054831  ],\n",
       "       [-1.84737418],\n",
       "       [-1.03632518],\n",
       "       [ 1.93903662],\n",
       "       [ 0.38731379],\n",
       "       [-0.48740445],\n",
       "       [ 3.45903372],\n",
       "       [-2.45561844],\n",
       "       [-2.03971902],\n",
       "       [-1.8975588 ],\n",
       "       [-1.358021  ],\n",
       "       [ 2.40291772],\n",
       "       [-0.71807772],\n",
       "       [-1.48634209],\n",
       "       [ 2.89750137],\n",
       "       [-0.85844777],\n",
       "       [-0.37165317],\n",
       "       [-0.86444413],\n",
       "       [ 1.62846769],\n",
       "       [ 0.73526688],\n",
       "       [-0.22909536],\n",
       "       [-2.45315887],\n",
       "       [-0.90024148],\n",
       "       [ 4.08752432],\n",
       "       [-0.57067001],\n",
       "       [-2.44525296],\n",
       "       [ 4.62373368],\n",
       "       [-1.76601466],\n",
       "       [-0.77182021],\n",
       "       [-2.35749274],\n",
       "       [-0.48374589],\n",
       "       [-0.42097218],\n",
       "       [ 2.66117211],\n",
       "       [ 0.80361189],\n",
       "       [ 3.91926461],\n",
       "       [-1.30791073],\n",
       "       [-2.78303183],\n",
       "       [-0.94836588]])"
      ]
     },
     "execution_count": 188,
     "metadata": {},
     "output_type": "execute_result"
    }
   ],
   "source": [
    "x_train_lda"
   ]
  },
  {
   "cell_type": "code",
   "execution_count": 190,
   "id": "0aa1c354-7acf-4b4f-a129-e5d82343e768",
   "metadata": {},
   "outputs": [
    {
     "name": "stdout",
     "output_type": "stream",
     "text": [
      "              precision    recall  f1-score   support\n",
      "\n",
      "           0       0.96      0.94      0.95        47\n",
      "           1       0.96      0.97      0.96        67\n",
      "\n",
      "    accuracy                           0.96       114\n",
      "   macro avg       0.96      0.95      0.95       114\n",
      "weighted avg       0.96      0.96      0.96       114\n",
      "\n"
     ]
    }
   ],
   "source": [
    "dt = DecisionTreeClassifier()\n",
    "dt.fit(x_train_lda,y_train)\n",
    "y_pred = dt.predict(x_test_lda)\n",
    "print(classification_report(y_test,y_pred))"
   ]
  },
  {
   "cell_type": "markdown",
   "id": "66b6ceae-f563-4d69-8b48-1bf1b3014ff9",
   "metadata": {
    "jp-MarkdownHeadingCollapsed": true
   },
   "source": [
    "### 4 - Variance Threshold"
   ]
  },
  {
   "cell_type": "code",
   "execution_count": 193,
   "id": "c7db7b8d-19d6-4d32-b985-b9ecee4925ec",
   "metadata": {},
   "outputs": [],
   "source": [
    "from sklearn.feature_selection import VarianceThreshold"
   ]
  },
  {
   "cell_type": "code",
   "execution_count": 196,
   "id": "0dff0e5c-1e38-4154-8ecd-2d857d92f4fe",
   "metadata": {},
   "outputs": [],
   "source": [
    "var = VarianceThreshold(threshold = 0.9)"
   ]
  },
  {
   "cell_type": "code",
   "execution_count": 198,
   "id": "3c3da89e-d0d5-49bd-9601-584f5cf2eac4",
   "metadata": {},
   "outputs": [],
   "source": [
    "x_train_v = var.fit_transform(x_train)\n",
    "x_test_v = var.transform(x_test)"
   ]
  },
  {
   "cell_type": "code",
   "execution_count": 200,
   "id": "101d0930-a04d-41c6-a8a0-8858e87b0312",
   "metadata": {},
   "outputs": [
    {
     "data": {
      "text/plain": [
       "array([[ 10.05 ,  17.53 ,  64.41 , ...,  26.84 ,  71.98 , 384.   ],\n",
       "       [ 10.8  ,  21.98 ,  68.79 , ...,  32.04 ,  83.69 , 489.5  ],\n",
       "       [ 16.14 ,  14.86 , 104.3  , ...,  19.58 , 115.9  , 947.9  ],\n",
       "       ...,\n",
       "       [  9.436,  18.32 ,  59.82 , ...,  25.02 ,  75.79 , 439.6  ],\n",
       "       [  9.72 ,  18.22 ,  60.73 , ...,  20.83 ,  62.25 , 303.8  ],\n",
       "       [ 11.51 ,  23.93 ,  74.52 , ...,  37.16 ,  82.28 , 474.2  ]])"
      ]
     },
     "execution_count": 200,
     "metadata": {},
     "output_type": "execute_result"
    }
   ],
   "source": [
    "x_train_v"
   ]
  },
  {
   "cell_type": "code",
   "execution_count": 202,
   "id": "49d10ddc-33ef-4373-932b-845cf7cefe95",
   "metadata": {},
   "outputs": [
    {
     "name": "stdout",
     "output_type": "stream",
     "text": [
      "              precision    recall  f1-score   support\n",
      "\n",
      "           0       0.88      0.91      0.90        47\n",
      "           1       0.94      0.91      0.92        67\n",
      "\n",
      "    accuracy                           0.91       114\n",
      "   macro avg       0.91      0.91      0.91       114\n",
      "weighted avg       0.91      0.91      0.91       114\n",
      "\n"
     ]
    }
   ],
   "source": [
    "dt = DecisionTreeClassifier()\n",
    "dt.fit(x_train_v,y_train)\n",
    "y_pred = dt.predict(x_test_v)\n",
    "print(classification_report(y_test,y_pred))"
   ]
  },
  {
   "cell_type": "markdown",
   "id": "c3e4fc97-8272-4c8e-ab0c-a7a3d68a0b1b",
   "metadata": {
    "jp-MarkdownHeadingCollapsed": true
   },
   "source": [
    "### 5 - MAD"
   ]
  },
  {
   "cell_type": "code",
   "execution_count": 205,
   "id": "b3396158-9fd5-4882-b413-21d600af43fb",
   "metadata": {},
   "outputs": [],
   "source": [
    "def mad(x):\n",
    "    mean = np.mean(x)\n",
    "    return np.mean(np.abs(x-mean))"
   ]
  },
  {
   "cell_type": "code",
   "execution_count": 207,
   "id": "0cf71cf5-d063-4771-8dbf-d6fc1fb41e2e",
   "metadata": {},
   "outputs": [],
   "source": [
    "x = cancer_data.data"
   ]
  },
  {
   "cell_type": "code",
   "execution_count": 211,
   "id": "22308dd0-991e-4663-a6d0-a105385574b9",
   "metadata": {},
   "outputs": [],
   "source": [
    "mad_val = np.apply_along_axis(mad,axis = 0,arr = x)"
   ]
  },
  {
   "cell_type": "code",
   "execution_count": 213,
   "id": "9a9ee043-55c5-4ce8-992b-6d9afadf2791",
   "metadata": {},
   "outputs": [
    {
     "data": {
      "text/plain": [
       "array([2.75188776e+00, 3.38496465e+00, 1.90325780e+01, 2.63483384e+02,\n",
       "       1.11609886e-02, 4.11052402e-02, 6.25558942e-02, 3.14597998e-02,\n",
       "       2.11457581e-02, 5.30645353e-03, 1.89284531e-01, 4.08740215e-01,\n",
       "       1.33252531e+00, 2.71965065e+01, 2.12290566e-03, 1.31384253e-02,\n",
       "       1.86080085e-02, 4.52792317e-03, 5.81924415e-03, 1.66415113e-03,\n",
       "       3.78985656e+00, 4.91182490e+00, 2.64654371e+01, 4.23879453e+02,\n",
       "       1.79555995e-02, 1.19683744e-01, 1.64699576e-01, 5.49961343e-02,\n",
       "       4.48711210e-02, 1.34096668e-02])"
      ]
     },
     "execution_count": 213,
     "metadata": {},
     "output_type": "execute_result"
    }
   ],
   "source": [
    "mad_val"
   ]
  },
  {
   "cell_type": "code",
   "execution_count": 227,
   "id": "14e12d48-a6c1-45c2-8509-6be27bb85405",
   "metadata": {},
   "outputs": [],
   "source": [
    "threshold = 5\n",
    "s_f = np.where(mad_val >threshold)[0]"
   ]
  },
  {
   "cell_type": "code",
   "execution_count": 229,
   "id": "4cdaa944-fab1-47ef-8d61-b12afda3da08",
   "metadata": {},
   "outputs": [
    {
     "data": {
      "text/plain": [
       "array([ 2,  3, 13, 22, 23], dtype=int64)"
      ]
     },
     "execution_count": 229,
     "metadata": {},
     "output_type": "execute_result"
    }
   ],
   "source": [
    "s_f"
   ]
  },
  {
   "cell_type": "code",
   "execution_count": null,
   "id": "9af42679-b612-4edc-9dc4-812792457d0a",
   "metadata": {},
   "outputs": [],
   "source": []
  }
 ],
 "metadata": {
  "kernelspec": {
   "display_name": "Python 3 (ipykernel)",
   "language": "python",
   "name": "python3"
  },
  "language_info": {
   "codemirror_mode": {
    "name": "ipython",
    "version": 3
   },
   "file_extension": ".py",
   "mimetype": "text/x-python",
   "name": "python",
   "nbconvert_exporter": "python",
   "pygments_lexer": "ipython3",
   "version": "3.12.4"
  }
 },
 "nbformat": 4,
 "nbformat_minor": 5
}
