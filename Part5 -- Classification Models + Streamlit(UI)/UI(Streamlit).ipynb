{
 "cells": [
  {
   "cell_type": "code",
   "execution_count": 4,
   "id": "118d537d-443b-489a-a55f-12417341e944",
   "metadata": {},
   "outputs": [],
   "source": [
    "#!pip install streamlit"
   ]
  },
  {
   "cell_type": "code",
   "execution_count": 40,
   "id": "cf0f96c9-a054-467b-9edf-5fcfb0dba273",
   "metadata": {},
   "outputs": [
    {
     "name": "stdout",
     "output_type": "stream",
     "text": [
      "Overwriting app1.py\n"
     ]
    }
   ],
   "source": [
    "%%writefile app1.py\n",
    "import streamlit as st \n",
    "import pandas as pd\n",
    "import numpy as np\n",
    "import seaborn as sns\n",
    "import matplotlib.pyplot as plt\n",
    "from sklearn.model_selection import train_test_split\n",
    "from sklearn.linear_model import LogisticRegression\n",
    "from sklearn.metrics import classification_report , accuracy_score\n",
    "\n",
    "## Core\n",
    "df = pd.read_csv(r\"D:\\Work\\Route\\C07\\ONline\\New folder\\New folder\\advertising.csv\")\n",
    "x = df[['Daily Time Spent on Site', 'Age', 'Area Income','Daily Internet Usage', 'Male']]\n",
    "y = df['Clicked on Ad']\n",
    "x_train,x_test,y_train,y_test = train_test_split(x,y,test_size = 0.2,random_state = 0)\n",
    "## Modeling\n",
    "model = LogisticRegression()\n",
    "model.fit(x_train,y_train)\n",
    "y_pred = model.predict(x_test)\n",
    "\n",
    "##UI\n",
    "st.title('LogisticRegression App')\n",
    "st.write(x.head())\n",
    "st.write('Accuracy Score',accuracy_score(y_test,y_pred)*100,'%')\n",
    "\n",
    "st.sidebar.header('User Inputs')\n",
    "def user_inputs():\n",
    "    Daily_Time_Spent = st.sidebar.slider('Daily_Time_Spent',32.6,91.43,68.215)\n",
    "    Age = st.sidebar.slider('Age',19.0,61.0,35.0)\n",
    "    Area_Income = st.sidebar.slider('Area_Income',13996.5,97484.8,5500.0)\n",
    "    Daily_Internet = st.sidebar.slider('Daily_Internet',104.78,269.96,150.0)\n",
    "    Male = st.sidebar.selectbox('Male',[0,1])\n",
    "\n",
    "    data = {\n",
    "        'Daily Time Spent on Site': Daily_Time_Spent,\n",
    "        'Age':Age , \n",
    "        'Area Income': Area_Income,\n",
    "       'Daily Internet Usage':Daily_Internet , \n",
    "        'Male':Male \n",
    "    }\n",
    "    features = pd.DataFrame([data])\n",
    "    return features\n",
    "\n",
    "## USER ACTIVITY\n",
    "input_df = user_inputs()\n",
    "\n",
    "if st.sidebar.button('Predict'):\n",
    "    preds = model.predict(input_df)\n",
    "    st.sidebar.write('Model Predictions:',preds)"
   ]
  },
  {
   "cell_type": "code",
   "execution_count": null,
   "id": "05bd0dd8-ef47-47a0-92b2-afc184180cb7",
   "metadata": {},
   "outputs": [],
   "source": []
  }
 ],
 "metadata": {
  "kernelspec": {
   "display_name": "Python 3 (ipykernel)",
   "language": "python",
   "name": "python3"
  },
  "language_info": {
   "codemirror_mode": {
    "name": "ipython",
    "version": 3
   },
   "file_extension": ".py",
   "mimetype": "text/x-python",
   "name": "python",
   "nbconvert_exporter": "python",
   "pygments_lexer": "ipython3",
   "version": "3.12.4"
  }
 },
 "nbformat": 4,
 "nbformat_minor": 5
}
