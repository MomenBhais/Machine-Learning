{
 "cells": [
  {
   "cell_type": "markdown",
   "id": "959377db-277b-4aef-9978-019bd0bf1dbb",
   "metadata": {},
   "source": [
    "## LIBs"
   ]
  },
  {
   "cell_type": "code",
   "execution_count": 11,
   "id": "bfc7b70d-0972-43ed-9e2e-d0f7e343f9f9",
   "metadata": {},
   "outputs": [],
   "source": [
    "import pandas as pd\n",
    "import numpy as np\n",
    "import seaborn as sns\n",
    "\n",
    "from sklearn.metrics import r2_score\n",
    "from sklearn.model_selection import train_test_split\n",
    "import warnings\n",
    "warnings.filterwarnings('ignore')\n",
    "\n",
    "\n",
    "from sklearn.preprocessing import LabelEncoder , OrdinalEncoder\n",
    "\n",
    "\n",
    "## Models\n",
    "from sklearn.linear_model import LinearRegression\n",
    "from sklearn.svm import SVR\n",
    "from sklearn.neighbors import KNeighborsRegressor\n",
    "from sklearn.tree import DecisionTreeRegressor\n",
    "from sklearn.ensemble import RandomForestRegressor , AdaBoostRegressor\n",
    "from xgboost import XGBRegressor"
   ]
  },
  {
   "cell_type": "code",
   "execution_count": 13,
   "id": "38e01021-cc95-40a1-a75f-c94b9e7da93a",
   "metadata": {},
   "outputs": [],
   "source": [
    "df = pd.read_csv(r\"D:\\Work\\Route\\HTI\\S10\\KNN\\StudentsPerformance.csv\")"
   ]
  },
  {
   "cell_type": "code",
   "execution_count": 15,
   "id": "4b446071-4388-4e3c-a8b5-2e5c09262a16",
   "metadata": {},
   "outputs": [
    {
     "data": {
      "text/html": [
       "<div>\n",
       "<style scoped>\n",
       "    .dataframe tbody tr th:only-of-type {\n",
       "        vertical-align: middle;\n",
       "    }\n",
       "\n",
       "    .dataframe tbody tr th {\n",
       "        vertical-align: top;\n",
       "    }\n",
       "\n",
       "    .dataframe thead th {\n",
       "        text-align: right;\n",
       "    }\n",
       "</style>\n",
       "<table border=\"1\" class=\"dataframe\">\n",
       "  <thead>\n",
       "    <tr style=\"text-align: right;\">\n",
       "      <th></th>\n",
       "      <th>gender</th>\n",
       "      <th>race/ethnicity</th>\n",
       "      <th>parental level of education</th>\n",
       "      <th>lunch</th>\n",
       "      <th>test preparation course</th>\n",
       "      <th>math score</th>\n",
       "      <th>reading score</th>\n",
       "      <th>writing score</th>\n",
       "    </tr>\n",
       "  </thead>\n",
       "  <tbody>\n",
       "    <tr>\n",
       "      <th>0</th>\n",
       "      <td>female</td>\n",
       "      <td>group B</td>\n",
       "      <td>bachelor's degree</td>\n",
       "      <td>standard</td>\n",
       "      <td>none</td>\n",
       "      <td>72</td>\n",
       "      <td>72</td>\n",
       "      <td>74</td>\n",
       "    </tr>\n",
       "    <tr>\n",
       "      <th>1</th>\n",
       "      <td>female</td>\n",
       "      <td>group C</td>\n",
       "      <td>some college</td>\n",
       "      <td>standard</td>\n",
       "      <td>completed</td>\n",
       "      <td>69</td>\n",
       "      <td>90</td>\n",
       "      <td>88</td>\n",
       "    </tr>\n",
       "    <tr>\n",
       "      <th>2</th>\n",
       "      <td>female</td>\n",
       "      <td>group B</td>\n",
       "      <td>master's degree</td>\n",
       "      <td>standard</td>\n",
       "      <td>none</td>\n",
       "      <td>90</td>\n",
       "      <td>95</td>\n",
       "      <td>93</td>\n",
       "    </tr>\n",
       "    <tr>\n",
       "      <th>3</th>\n",
       "      <td>male</td>\n",
       "      <td>group A</td>\n",
       "      <td>associate's degree</td>\n",
       "      <td>free/reduced</td>\n",
       "      <td>none</td>\n",
       "      <td>47</td>\n",
       "      <td>57</td>\n",
       "      <td>44</td>\n",
       "    </tr>\n",
       "    <tr>\n",
       "      <th>4</th>\n",
       "      <td>male</td>\n",
       "      <td>group C</td>\n",
       "      <td>some college</td>\n",
       "      <td>standard</td>\n",
       "      <td>none</td>\n",
       "      <td>76</td>\n",
       "      <td>78</td>\n",
       "      <td>75</td>\n",
       "    </tr>\n",
       "  </tbody>\n",
       "</table>\n",
       "</div>"
      ],
      "text/plain": [
       "   gender race/ethnicity parental level of education         lunch  \\\n",
       "0  female        group B           bachelor's degree      standard   \n",
       "1  female        group C                some college      standard   \n",
       "2  female        group B             master's degree      standard   \n",
       "3    male        group A          associate's degree  free/reduced   \n",
       "4    male        group C                some college      standard   \n",
       "\n",
       "  test preparation course  math score  reading score  writing score  \n",
       "0                    none          72             72             74  \n",
       "1               completed          69             90             88  \n",
       "2                    none          90             95             93  \n",
       "3                    none          47             57             44  \n",
       "4                    none          76             78             75  "
      ]
     },
     "execution_count": 15,
     "metadata": {},
     "output_type": "execute_result"
    }
   ],
   "source": [
    "df.head()"
   ]
  },
  {
   "cell_type": "code",
   "execution_count": 17,
   "id": "88c7ec6a-90ea-46c2-b65a-d8521438a445",
   "metadata": {},
   "outputs": [
    {
     "name": "stdout",
     "output_type": "stream",
     "text": [
      "<class 'pandas.core.frame.DataFrame'>\n",
      "RangeIndex: 1000 entries, 0 to 999\n",
      "Data columns (total 8 columns):\n",
      " #   Column                       Non-Null Count  Dtype \n",
      "---  ------                       --------------  ----- \n",
      " 0   gender                       1000 non-null   object\n",
      " 1   race/ethnicity               1000 non-null   object\n",
      " 2   parental level of education  1000 non-null   object\n",
      " 3   lunch                        1000 non-null   object\n",
      " 4   test preparation course      1000 non-null   object\n",
      " 5   math score                   1000 non-null   int64 \n",
      " 6   reading score                1000 non-null   int64 \n",
      " 7   writing score                1000 non-null   int64 \n",
      "dtypes: int64(3), object(5)\n",
      "memory usage: 62.6+ KB\n"
     ]
    }
   ],
   "source": [
    "df.info()"
   ]
  },
  {
   "cell_type": "markdown",
   "id": "2857ffff-9b15-49e5-83f6-f96e68853406",
   "metadata": {
    "jp-MarkdownHeadingCollapsed": true
   },
   "source": [
    "## Data PRE"
   ]
  },
  {
   "cell_type": "code",
   "execution_count": 20,
   "id": "9cdd25b9-9367-4508-bbfb-c8981da1c414",
   "metadata": {},
   "outputs": [],
   "source": [
    "x = df.drop(['math score'],axis = 1)\n",
    "y = df['math score']"
   ]
  },
  {
   "cell_type": "code",
   "execution_count": 22,
   "id": "67174098-ed78-4d5c-99bf-153fb772c1eb",
   "metadata": {},
   "outputs": [
    {
     "data": {
      "text/html": [
       "<div>\n",
       "<style scoped>\n",
       "    .dataframe tbody tr th:only-of-type {\n",
       "        vertical-align: middle;\n",
       "    }\n",
       "\n",
       "    .dataframe tbody tr th {\n",
       "        vertical-align: top;\n",
       "    }\n",
       "\n",
       "    .dataframe thead th {\n",
       "        text-align: right;\n",
       "    }\n",
       "</style>\n",
       "<table border=\"1\" class=\"dataframe\">\n",
       "  <thead>\n",
       "    <tr style=\"text-align: right;\">\n",
       "      <th></th>\n",
       "      <th>gender</th>\n",
       "      <th>race/ethnicity</th>\n",
       "      <th>parental level of education</th>\n",
       "      <th>lunch</th>\n",
       "      <th>test preparation course</th>\n",
       "      <th>reading score</th>\n",
       "      <th>writing score</th>\n",
       "    </tr>\n",
       "  </thead>\n",
       "  <tbody>\n",
       "    <tr>\n",
       "      <th>0</th>\n",
       "      <td>female</td>\n",
       "      <td>group B</td>\n",
       "      <td>bachelor's degree</td>\n",
       "      <td>standard</td>\n",
       "      <td>none</td>\n",
       "      <td>72</td>\n",
       "      <td>74</td>\n",
       "    </tr>\n",
       "    <tr>\n",
       "      <th>1</th>\n",
       "      <td>female</td>\n",
       "      <td>group C</td>\n",
       "      <td>some college</td>\n",
       "      <td>standard</td>\n",
       "      <td>completed</td>\n",
       "      <td>90</td>\n",
       "      <td>88</td>\n",
       "    </tr>\n",
       "    <tr>\n",
       "      <th>2</th>\n",
       "      <td>female</td>\n",
       "      <td>group B</td>\n",
       "      <td>master's degree</td>\n",
       "      <td>standard</td>\n",
       "      <td>none</td>\n",
       "      <td>95</td>\n",
       "      <td>93</td>\n",
       "    </tr>\n",
       "    <tr>\n",
       "      <th>3</th>\n",
       "      <td>male</td>\n",
       "      <td>group A</td>\n",
       "      <td>associate's degree</td>\n",
       "      <td>free/reduced</td>\n",
       "      <td>none</td>\n",
       "      <td>57</td>\n",
       "      <td>44</td>\n",
       "    </tr>\n",
       "    <tr>\n",
       "      <th>4</th>\n",
       "      <td>male</td>\n",
       "      <td>group C</td>\n",
       "      <td>some college</td>\n",
       "      <td>standard</td>\n",
       "      <td>none</td>\n",
       "      <td>78</td>\n",
       "      <td>75</td>\n",
       "    </tr>\n",
       "  </tbody>\n",
       "</table>\n",
       "</div>"
      ],
      "text/plain": [
       "   gender race/ethnicity parental level of education         lunch  \\\n",
       "0  female        group B           bachelor's degree      standard   \n",
       "1  female        group C                some college      standard   \n",
       "2  female        group B             master's degree      standard   \n",
       "3    male        group A          associate's degree  free/reduced   \n",
       "4    male        group C                some college      standard   \n",
       "\n",
       "  test preparation course  reading score  writing score  \n",
       "0                    none             72             74  \n",
       "1               completed             90             88  \n",
       "2                    none             95             93  \n",
       "3                    none             57             44  \n",
       "4                    none             78             75  "
      ]
     },
     "execution_count": 22,
     "metadata": {},
     "output_type": "execute_result"
    }
   ],
   "source": [
    "x.head()"
   ]
  },
  {
   "cell_type": "code",
   "execution_count": 26,
   "id": "f71536c0-4dac-4b1e-a494-eaf4c177f5ec",
   "metadata": {},
   "outputs": [
    {
     "data": {
      "text/plain": [
       "array(['female', 'male'], dtype=object)"
      ]
     },
     "execution_count": 26,
     "metadata": {},
     "output_type": "execute_result"
    }
   ],
   "source": [
    "x['gender'].unique()"
   ]
  },
  {
   "cell_type": "code",
   "execution_count": 28,
   "id": "2600ad48-b1c3-4b30-a20f-9d0b7b493788",
   "metadata": {},
   "outputs": [
    {
     "data": {
      "text/plain": [
       "array(['group B', 'group C', 'group A', 'group D', 'group E'],\n",
       "      dtype=object)"
      ]
     },
     "execution_count": 28,
     "metadata": {},
     "output_type": "execute_result"
    }
   ],
   "source": [
    "x['race/ethnicity'].unique()"
   ]
  },
  {
   "cell_type": "code",
   "execution_count": 30,
   "id": "d7b76db8-7ec6-40a7-b787-9a1ebddba7e2",
   "metadata": {},
   "outputs": [
    {
     "data": {
      "text/plain": [
       "array(['standard', 'free/reduced'], dtype=object)"
      ]
     },
     "execution_count": 30,
     "metadata": {},
     "output_type": "execute_result"
    }
   ],
   "source": [
    "x['lunch'].unique()"
   ]
  },
  {
   "cell_type": "code",
   "execution_count": 32,
   "id": "c1d385db-a9c6-4866-8fb9-5ba42d5ed1e3",
   "metadata": {},
   "outputs": [
    {
     "data": {
      "text/plain": [
       "array(['none', 'completed'], dtype=object)"
      ]
     },
     "execution_count": 32,
     "metadata": {},
     "output_type": "execute_result"
    }
   ],
   "source": [
    "x['test preparation course'].unique()"
   ]
  },
  {
   "cell_type": "code",
   "execution_count": 34,
   "id": "ffcdf358-b310-40d8-b856-2bcb5fff852b",
   "metadata": {},
   "outputs": [
    {
     "data": {
      "text/plain": [
       "array([\"bachelor's degree\", 'some college', \"master's degree\",\n",
       "       \"associate's degree\", 'high school', 'some high school'],\n",
       "      dtype=object)"
      ]
     },
     "execution_count": 34,
     "metadata": {},
     "output_type": "execute_result"
    }
   ],
   "source": [
    "x['parental level of education'].unique()"
   ]
  },
  {
   "cell_type": "code",
   "execution_count": 36,
   "id": "28af164e-cf7c-47ff-ab0b-1c584b242b06",
   "metadata": {},
   "outputs": [],
   "source": [
    "label_encoder = LabelEncoder()"
   ]
  },
  {
   "cell_type": "code",
   "execution_count": 38,
   "id": "c304e4a8-d6e8-4172-a511-0d0b3e0dbf95",
   "metadata": {},
   "outputs": [],
   "source": [
    "x['gender'] = label_encoder.fit_transform(x['gender'] )\n",
    "x['race/ethnicity'] = label_encoder.fit_transform(x['race/ethnicity'] )\n",
    "x['lunch'] = label_encoder.fit_transform(x['lunch'] )\n",
    "x['test preparation course'] = label_encoder.fit_transform(x['test preparation course'] )"
   ]
  },
  {
   "cell_type": "code",
   "execution_count": 42,
   "id": "20762858-59b1-426d-970f-e56457823f40",
   "metadata": {},
   "outputs": [
    {
     "data": {
      "text/plain": [
       "array([\"bachelor's degree\", 'some college', \"master's degree\",\n",
       "       \"associate's degree\", 'high school', 'some high school'],\n",
       "      dtype=object)"
      ]
     },
     "execution_count": 42,
     "metadata": {},
     "output_type": "execute_result"
    }
   ],
   "source": [
    "x['parental level of education'].unique()"
   ]
  },
  {
   "cell_type": "code",
   "execution_count": 44,
   "id": "2ec35b6a-04d8-42e4-9a7a-91084e2e8afc",
   "metadata": {},
   "outputs": [],
   "source": [
    "ord_encoder = OrdinalEncoder(categories = [[\"some high school\",\n",
    "                                            \"high school\",\n",
    "                                            \"some college\",\n",
    "                                            \"associate's degree\",\n",
    "                                            \"bachelor's degree\",\n",
    "                                            \"master's degree\"]])"
   ]
  },
  {
   "cell_type": "code",
   "execution_count": 46,
   "id": "0a7c45c6-6360-4cee-97e6-b8ac09774a62",
   "metadata": {},
   "outputs": [],
   "source": [
    "x[['parental level of education']] = ord_encoder.fit_transform(x[['parental level of education']])"
   ]
  },
  {
   "cell_type": "code",
   "execution_count": 48,
   "id": "eef002f7-bc6b-4da0-aa41-6ac82bbfafcc",
   "metadata": {},
   "outputs": [
    {
     "data": {
      "text/html": [
       "<div>\n",
       "<style scoped>\n",
       "    .dataframe tbody tr th:only-of-type {\n",
       "        vertical-align: middle;\n",
       "    }\n",
       "\n",
       "    .dataframe tbody tr th {\n",
       "        vertical-align: top;\n",
       "    }\n",
       "\n",
       "    .dataframe thead th {\n",
       "        text-align: right;\n",
       "    }\n",
       "</style>\n",
       "<table border=\"1\" class=\"dataframe\">\n",
       "  <thead>\n",
       "    <tr style=\"text-align: right;\">\n",
       "      <th></th>\n",
       "      <th>gender</th>\n",
       "      <th>race/ethnicity</th>\n",
       "      <th>parental level of education</th>\n",
       "      <th>lunch</th>\n",
       "      <th>test preparation course</th>\n",
       "      <th>reading score</th>\n",
       "      <th>writing score</th>\n",
       "    </tr>\n",
       "  </thead>\n",
       "  <tbody>\n",
       "    <tr>\n",
       "      <th>0</th>\n",
       "      <td>0</td>\n",
       "      <td>1</td>\n",
       "      <td>4.0</td>\n",
       "      <td>1</td>\n",
       "      <td>1</td>\n",
       "      <td>72</td>\n",
       "      <td>74</td>\n",
       "    </tr>\n",
       "    <tr>\n",
       "      <th>1</th>\n",
       "      <td>0</td>\n",
       "      <td>2</td>\n",
       "      <td>2.0</td>\n",
       "      <td>1</td>\n",
       "      <td>0</td>\n",
       "      <td>90</td>\n",
       "      <td>88</td>\n",
       "    </tr>\n",
       "    <tr>\n",
       "      <th>2</th>\n",
       "      <td>0</td>\n",
       "      <td>1</td>\n",
       "      <td>5.0</td>\n",
       "      <td>1</td>\n",
       "      <td>1</td>\n",
       "      <td>95</td>\n",
       "      <td>93</td>\n",
       "    </tr>\n",
       "    <tr>\n",
       "      <th>3</th>\n",
       "      <td>1</td>\n",
       "      <td>0</td>\n",
       "      <td>3.0</td>\n",
       "      <td>0</td>\n",
       "      <td>1</td>\n",
       "      <td>57</td>\n",
       "      <td>44</td>\n",
       "    </tr>\n",
       "    <tr>\n",
       "      <th>4</th>\n",
       "      <td>1</td>\n",
       "      <td>2</td>\n",
       "      <td>2.0</td>\n",
       "      <td>1</td>\n",
       "      <td>1</td>\n",
       "      <td>78</td>\n",
       "      <td>75</td>\n",
       "    </tr>\n",
       "  </tbody>\n",
       "</table>\n",
       "</div>"
      ],
      "text/plain": [
       "   gender  race/ethnicity  parental level of education  lunch  \\\n",
       "0       0               1                          4.0      1   \n",
       "1       0               2                          2.0      1   \n",
       "2       0               1                          5.0      1   \n",
       "3       1               0                          3.0      0   \n",
       "4       1               2                          2.0      1   \n",
       "\n",
       "   test preparation course  reading score  writing score  \n",
       "0                        1             72             74  \n",
       "1                        0             90             88  \n",
       "2                        1             95             93  \n",
       "3                        1             57             44  \n",
       "4                        1             78             75  "
      ]
     },
     "execution_count": 48,
     "metadata": {},
     "output_type": "execute_result"
    }
   ],
   "source": [
    "x.head()"
   ]
  },
  {
   "cell_type": "code",
   "execution_count": 50,
   "id": "106bddb9-86e3-4eac-806f-462ef689ac14",
   "metadata": {},
   "outputs": [],
   "source": [
    "x_train , x_test, y_train,y_test = train_test_split(x,y,\n",
    "                                                   test_size= 0.2,\n",
    "                                                   random_state = 0)"
   ]
  },
  {
   "cell_type": "markdown",
   "id": "77011589-c5d6-475c-99d1-9ba8008a4059",
   "metadata": {},
   "source": [
    "## Modeling "
   ]
  },
  {
   "cell_type": "code",
   "execution_count": 54,
   "id": "316ce304-8043-4598-947d-947530d21439",
   "metadata": {},
   "outputs": [],
   "source": [
    "models= {\n",
    " 'LinearRegression':LinearRegression(),\n",
    "    'SVR':SVR(),\n",
    "    'KNeighborsRegressor': KNeighborsRegressor(),\n",
    "    'DecisionTreeRegressor' :DecisionTreeRegressor(),\n",
    "    'RandomForestRegressor' : RandomForestRegressor(),\n",
    "    'AdaBoostRegressor' : AdaBoostRegressor(),\n",
    "    'XGBRegressor': XGBRegressor()\n",
    "    \n",
    "}"
   ]
  },
  {
   "cell_type": "code",
   "execution_count": 56,
   "id": "11af8112-bd30-41bd-b949-658b3df3263d",
   "metadata": {},
   "outputs": [],
   "source": [
    "def evalute_model(act, pred,model_name):\n",
    "    score = r2_score(act, pred)\n",
    "    print(f'The score of [{model_name}] model is --> ({score})')\n",
    "    return score"
   ]
  },
  {
   "cell_type": "code",
   "execution_count": 62,
   "id": "10001ece-5fca-4810-8253-c4c8ef59e81b",
   "metadata": {},
   "outputs": [
    {
     "name": "stdout",
     "output_type": "stream",
     "text": [
      "The score of [LinearRegression] model is --> (0.8596877833639415)\n",
      "The score of [SVR] model is --> (0.6113881488448154)\n",
      "The score of [KNeighborsRegressor] model is --> (0.6499336280061571)\n",
      "The score of [DecisionTreeRegressor] model is --> (0.7573715278268115)\n",
      "The score of [RandomForestRegressor] model is --> (0.8559246029154252)\n",
      "The score of [AdaBoostRegressor] model is --> (0.8286716522483727)\n",
      "The score of [XGBRegressor] model is --> (0.8235119341656882)\n"
     ]
    }
   ],
   "source": [
    "model_scores={}\n",
    "model_pred={}\n",
    "\n",
    "for i in range(len(list(models))):\n",
    "    model = list(models.values())[i]\n",
    "    model_name = list(models)[i]\n",
    "    \n",
    "    model.fit(x_train,y_train)\n",
    "    y_pred = model.predict(x_test)\n",
    "    model_pred[model_name] = y_pred\n",
    "    \n",
    "    m_score = evalute_model(y_test,y_pred,model_name)\n",
    "    model_scores[model_name] = m_score"
   ]
  },
  {
   "cell_type": "code",
   "execution_count": 64,
   "id": "b0b37cee-5adf-4e6a-b77f-ed2a1aaad2f0",
   "metadata": {},
   "outputs": [
    {
     "data": {
      "text/plain": [
       "{'LinearRegression': 0.8596877833639415,\n",
       " 'SVR': 0.6113881488448154,\n",
       " 'KNeighborsRegressor': 0.6499336280061571,\n",
       " 'DecisionTreeRegressor': 0.7573715278268115,\n",
       " 'RandomForestRegressor': 0.8559246029154252,\n",
       " 'AdaBoostRegressor': 0.8286716522483727,\n",
       " 'XGBRegressor': 0.8235119341656882}"
      ]
     },
     "execution_count": 64,
     "metadata": {},
     "output_type": "execute_result"
    }
   ],
   "source": [
    "model_scores"
   ]
  },
  {
   "cell_type": "code",
   "execution_count": 66,
   "id": "e130adee-a1d4-4146-9c7e-7647c8644a78",
   "metadata": {},
   "outputs": [
    {
     "data": {
      "text/plain": [
       "{'LinearRegression': array([63.51412785, 75.07131488, 49.48901512, 67.70291291, 70.11877822,\n",
       "        74.17608778, 65.5085795 , 48.89037124, 87.77966411, 43.99886822,\n",
       "        44.62012749, 58.87058527, 81.60499124, 85.8507563 , 43.56071191,\n",
       "        33.69900011, 56.50851289, 76.61832389, 46.75549245, 80.0591183 ,\n",
       "        55.10922393, 47.9921308 , 70.63742139, 62.80213528, 48.3499982 ,\n",
       "        65.25317157, 61.36665789, 49.18367941, 57.5540598 , 78.49305337,\n",
       "        73.29892729, 90.82716549, 83.75130314, 53.99254409, 44.9710993 ,\n",
       "        88.15054366, 92.41555   , 58.61246469, 68.50399888, 70.28113301,\n",
       "        72.92018655, 59.09503473, 72.54737629, 69.11443637, 74.02389312,\n",
       "        50.84250166, 83.2471284 , 53.78956983, 77.25976343, 51.77315439,\n",
       "        42.34700917, 62.6803455 , 42.38806276, 62.67491775, 39.71277206,\n",
       "        66.46391113, 47.3545357 , 67.34355034, 81.62772769, 54.53549287,\n",
       "        70.59246891, 72.06628726, 43.4358362 , 77.65760279, 70.29706946,\n",
       "        67.32142352, 77.67207122, 48.25533233, 60.26894512, 53.28350055,\n",
       "        79.27403621, 82.53151117, 78.75332543, 58.44204209, 58.30569467,\n",
       "        69.11849412, 79.23241016, 78.00947   , 24.52335736, 72.49975005,\n",
       "        81.32781973, 82.13692318, 65.41086141, 88.61476302, 72.05753066,\n",
       "        68.25231675, 69.94247299, 78.68669859, 64.40547269, 50.7919601 ,\n",
       "        64.71199216, 59.89211065, 53.96461382, 58.24725838, 83.01136857,\n",
       "        79.02402231, 50.62884251, 60.82057303, 65.06365916, 67.93924519,\n",
       "        37.0328793 , 89.04151521, 68.78495393, 29.37826514, 81.93837996,\n",
       "        66.96768892, 58.55786538, 51.25244361, 55.54461743, 89.59416632,\n",
       "        62.71482787, 68.79563882, 27.08065397, 55.05600343, 66.43988215,\n",
       "        70.69585768, 83.59761162, 75.98608149, 79.27493178, 52.09439284,\n",
       "        47.67333325, 76.03410816, 82.74902891, 86.58813711, 73.36501786,\n",
       "        53.33516399, 81.13636487, 65.71786535, 73.8177318 , 58.26532987,\n",
       "        70.0346406 , 75.54497187, 21.83060891, 88.7131547 , 77.55348513,\n",
       "        52.0314363 , 68.82850826, 67.43595186, 64.36709802, 90.58168377,\n",
       "        76.99065972, 64.75852367, 58.85846853, 62.66251693, 73.1176829 ,\n",
       "        38.65879821, 32.98023469, 44.77503479, 73.66100497, 91.83591677,\n",
       "        51.35486937, 68.44802957, 90.7485372 , 71.4150301 , 68.67491006,\n",
       "        79.15212368, 54.08927757, 51.80728507, 49.31178489, 53.58588723,\n",
       "        91.38832266, 47.02439835, 50.96859727, 97.29388941, 56.11403609,\n",
       "        71.54571338, 69.5529158 , 71.83066432, 62.40008806, 68.67041143,\n",
       "        52.26776858, 59.61402958, 25.97253052, 55.76216888, 80.93051664,\n",
       "        75.80560975, 68.07974737, 47.7865808 , 87.70516863, 83.71952415,\n",
       "        63.56419498, 76.96747599, 64.27364551, 72.48686065, 71.59883068,\n",
       "        74.08469284, 87.14669039, 93.87169623, 67.8034614 , 48.75488569,\n",
       "        52.70682046, 62.51669575, 51.59308966, 71.60001445, 59.63463511,\n",
       "        64.75312963, 75.3255532 , 80.74660747, 60.40856347, 70.66782627]),\n",
       " 'SVR': array([69.36117936, 69.10678833, 50.7353536 , 61.45330654, 72.58209581,\n",
       "        67.60289519, 68.39625303, 47.89384291, 77.79673846, 44.86518511,\n",
       "        51.92645582, 66.98700515, 74.85429114, 74.77703061, 56.73813386,\n",
       "        47.51494983, 51.66209186, 80.67508054, 55.57774796, 74.21483711,\n",
       "        61.56696782, 57.34614601, 73.05251741, 58.11574343, 49.22260528,\n",
       "        61.64201055, 55.70069308, 49.32299448, 65.71360014, 80.61218939,\n",
       "        77.90864466, 79.15324312, 82.55810617, 59.92340953, 56.53162587,\n",
       "        75.62163667, 85.43867591, 55.99596778, 73.50267008, 70.41507398,\n",
       "        63.06027986, 55.43836407, 66.59469282, 73.62175068, 76.82074839,\n",
       "        59.40248107, 80.90299756, 61.35943751, 78.66838255, 61.08205276,\n",
       "        45.24283303, 59.96701523, 52.30158484, 55.85042596, 46.85650679,\n",
       "        71.17548628, 55.63198755, 60.80699051, 71.4369737 , 62.33439127,\n",
       "        65.15759717, 74.37376688, 55.12962663, 69.77424986, 64.65515787,\n",
       "        64.81886896, 67.71789656, 54.38382683, 66.99486198, 52.97218227,\n",
       "        68.65130812, 75.86479732, 69.16667939, 66.27682497, 54.9435133 ,\n",
       "        61.77506113, 68.9276669 , 67.131025  , 43.46523467, 73.93718378,\n",
       "        73.71991565, 80.57711928, 68.42611659, 78.39881339, 64.55172493,\n",
       "        71.16857665, 64.28144028, 80.5669816 , 72.59519794, 60.29907331,\n",
       "        71.46038042, 63.65187221, 62.98688635, 56.47023111, 71.18338651,\n",
       "        69.19494803, 50.53541412, 69.58846331, 62.08030665, 61.26757998,\n",
       "        50.72096283, 79.10587273, 61.18986593, 48.99777985, 70.79033135,\n",
       "        74.9664973 , 68.68614255, 61.59348523, 60.06527881, 79.15447527,\n",
       "        67.98404308, 72.70739098, 44.6269068 , 55.44654692, 68.41914448,\n",
       "        71.47129154, 75.97277128, 72.13305363, 76.08578928, 60.20391065,\n",
       "        56.47068582, 77.46810128, 82.63085235, 75.51578609, 69.6102212 ,\n",
       "        62.68501363, 69.57965187, 73.26654251, 65.88833789, 61.59587682,\n",
       "        63.05686456, 64.50860024, 43.02341937, 76.43532933, 79.81584328,\n",
       "        59.04061711, 62.49537825, 63.39703826, 68.78675341, 76.81523197,\n",
       "        70.30353318, 66.88010735, 52.35360906, 56.80246151, 76.97401023,\n",
       "        45.46152726, 48.0039638 , 48.16564609, 78.27499843, 78.09376377,\n",
       "        49.65241469, 70.23830886, 85.23607227, 66.99952497, 74.53535719,\n",
       "        73.5662017 , 52.95090996, 57.59751303, 57.57280371, 51.61164949,\n",
       "        84.20757401, 55.706943  , 53.2339589 , 82.26720366, 63.48530566,\n",
       "        74.83348397, 75.53204963, 63.16955547, 55.35068288, 59.49127639,\n",
       "        58.84337842, 67.29463837, 45.29980071, 66.14621659, 78.74387711,\n",
       "        66.23228815, 64.78255117, 54.60709284, 84.75486643, 71.24915404,\n",
       "        59.98241136, 78.76934495, 63.877487  , 63.5313354 , 77.92340884,\n",
       "        63.92873922, 84.43804825, 85.46880149, 73.56770392, 47.36864692,\n",
       "        50.68955204, 58.42754422, 52.25807078, 75.2196389 , 58.05482739,\n",
       "        59.60667841, 80.53326493, 74.268887  , 68.40196411, 65.34426281]),\n",
       " 'KNeighborsRegressor': array([69.2, 73.2, 45.4, 71.6, 77.8, 64.6, 63. , 49.8, 87. , 36.4, 51.4,\n",
       "        62. , 74. , 71.2, 52.8, 44.4, 46.2, 82.4, 54.2, 75.2, 58. , 52.8,\n",
       "        68.8, 56.6, 47.2, 62.2, 56. , 47. , 65.4, 78.2, 76. , 84.2, 86.8,\n",
       "        55.8, 58.2, 76. , 92.4, 55.6, 72.8, 71.8, 62.4, 64.6, 72.6, 71.8,\n",
       "        77.2, 61. , 79.8, 63.8, 83.8, 69.4, 34.6, 57.6, 52.8, 61. , 39. ,\n",
       "        65.8, 52. , 70. , 71. , 64.8, 68.8, 73. , 52.2, 71.8, 69.6, 65. ,\n",
       "        70.4, 54.8, 65.6, 52. , 68.6, 84.2, 73.8, 69. , 57.2, 62. , 62.8,\n",
       "        67.2, 33.4, 66.4, 69. , 78.8, 79.6, 82.4, 65.8, 71. , 68. , 86. ,\n",
       "        74.8, 60.8, 65.8, 64. , 57.8, 50.6, 72.2, 76. , 46.2, 70.8, 61.8,\n",
       "        65. , 50.2, 81. , 62.8, 53. , 65.6, 73. , 60.4, 59.8, 57. , 80.4,\n",
       "        71.2, 66.6, 41.6, 55.6, 81.4, 69.4, 77.4, 74. , 71.8, 62.2, 56. ,\n",
       "        76. , 86.2, 77.2, 73.6, 60.4, 73.4, 73. , 71.4, 62.8, 58.6, 63.6,\n",
       "        20.2, 81. , 77.2, 58.2, 62.2, 63.4, 66. , 80.8, 69.2, 57.2, 55.8,\n",
       "        52. , 74.8, 37. , 46.6, 48.4, 82.4, 83.8, 54.2, 65.8, 97.6, 76. ,\n",
       "        68.6, 77.4, 51. , 56.8, 48.6, 48.4, 89.6, 55.2, 52.8, 83. , 63.2,\n",
       "        72.6, 72. , 66. , 56.2, 63.4, 49. , 67.6, 37. , 60. , 78. , 69.8,\n",
       "        69.6, 55.4, 91. , 74.6, 55.8, 80.2, 64.4, 66. , 79.2, 70.8, 91.2,\n",
       "        95. , 71.2, 54.6, 52.2, 56.6, 55.2, 75.2, 61. , 60. , 79.8, 82. ,\n",
       "        64. , 69.6]),\n",
       " 'DecisionTreeRegressor': array([ 61.,  74.,  43.,  66.,  73.,  63.,  68.,  49.,  84.,  40.,  40.,\n",
       "         68.,  81.,  90.,  46.,  29.,  41.,  76.,  52.,  81.,  65.,  43.,\n",
       "         73.,  62.,  49.,  64.,  69.,  57.,  62.,  70.,  67.,  87.,  90.,\n",
       "         58.,  35.,  95.,  87.,  64.,  71.,  70.,  69.,  61.,  73.,  74.,\n",
       "         79.,  52.,  75.,  52.,  79.,  53.,  53.,  60.,  43.,  69.,  44.,\n",
       "         61.,  52.,  64.,  82.,  49.,  61.,  74.,  50.,  85.,  79.,  69.,\n",
       "         79.,  41.,  66.,  49.,  81.,  89.,  75.,  66.,  55.,  64.,  80.,\n",
       "         78.,  27.,  72.,  74.,  81.,  71.,  94.,  76.,  66.,  80.,  90.,\n",
       "         66.,  53.,  57.,  52.,  58.,  53.,  94.,  69.,  49.,  57.,  64.,\n",
       "         66.,  41.,  93.,  74.,  41.,  81.,  63.,  45.,  49.,  49.,  84.,\n",
       "         68.,  74.,  32.,  55.,  68.,  64.,  89.,  66.,  79.,  59.,  52.,\n",
       "         73.,  85.,  81.,  78.,  55.,  75.,  66.,  71.,  66.,  72.,  69.,\n",
       "         30.,  95.,  76.,  64.,  71.,  59.,  76.,  82.,  71.,  56.,  54.,\n",
       "         64.,  75.,  42.,  35.,  53.,  61.,  90.,  50.,  63.,  97.,  61.,\n",
       "         64.,  81.,  50.,  53.,  44.,  52.,  82.,  51.,  59.,  88.,  64.,\n",
       "         65.,  72.,  73.,  62.,  61.,  46.,  52.,  32.,  68.,  75.,  68.,\n",
       "         65.,  56., 100.,  91.,  63.,  79.,  65.,  73.,  69.,  73.,  97.,\n",
       "         99.,  65.,  61.,  47.,  62.,  50.,  73.,  57.,  60.,  70.,  76.,\n",
       "         55.,  69.]),\n",
       " 'RandomForestRegressor': array([60.83, 75.38, 47.4 , 68.38, 70.7 , 74.86, 64.18, 50.59, 91.31,\n",
       "        38.11, 45.82, 58.85, 80.21, 84.28, 46.15, 33.21, 51.71, 76.29,\n",
       "        48.41, 80.61, 54.12, 45.36, 71.34, 62.32, 48.34, 65.39, 63.91,\n",
       "        52.25, 59.33, 75.07, 74.36, 89.46, 85.67, 55.2 , 45.94, 87.03,\n",
       "        88.35, 60.25, 66.39, 67.99, 74.  , 60.79, 76.01, 68.07, 73.75,\n",
       "        53.43, 80.49, 53.56, 77.82, 52.13, 42.99, 61.11, 45.6 , 64.94,\n",
       "        42.83, 62.11, 46.33, 65.43, 81.48, 52.8 , 68.65, 71.  , 47.51,\n",
       "        81.82, 69.53, 68.42, 76.51, 46.67, 62.2 , 53.21, 75.89, 87.31,\n",
       "        78.36, 61.13, 56.56, 65.51, 72.75, 75.66, 25.83, 75.89, 77.7 ,\n",
       "        80.02, 65.2 , 89.8 , 76.83, 68.43, 71.6 , 81.09, 65.41, 49.87,\n",
       "        63.05, 61.68, 53.26, 57.31, 85.91, 77.68, 48.85, 64.88, 65.  ,\n",
       "        66.03, 38.55, 91.72, 66.81, 39.76, 77.82, 65.77, 55.95, 49.66,\n",
       "        53.58, 92.27, 65.71, 68.41, 32.68, 58.17, 64.94, 71.37, 82.5 ,\n",
       "        75.43, 79.95, 57.25, 46.03, 73.89, 85.76, 84.37, 79.77, 54.46,\n",
       "        77.6 , 65.71, 72.35, 58.29, 69.36, 73.  , 23.09, 91.58, 75.47,\n",
       "        51.64, 70.17, 67.66, 65.02, 86.56, 72.1 , 62.59, 55.58, 61.89,\n",
       "        73.58, 38.65, 36.1 , 51.11, 71.38, 91.36, 51.06, 67.78, 95.36,\n",
       "        71.51, 68.96, 80.55, 50.41, 51.85, 45.17, 54.06, 88.05, 44.64,\n",
       "        54.34, 91.89, 57.19, 71.42, 70.86, 71.38, 61.01, 67.39, 45.99,\n",
       "        61.34, 29.72, 60.41, 77.87, 73.87, 67.99, 47.82, 92.17, 84.73,\n",
       "        62.39, 78.51, 66.96, 72.13, 70.34, 71.67, 92.18, 96.19, 70.95,\n",
       "        52.76, 53.44, 61.77, 54.34, 76.44, 61.38, 61.5 , 75.33, 81.69,\n",
       "        61.34, 69.02]),\n",
       " 'AdaBoostRegressor': array([60.06220096, 76.80808081, 51.02651515, 67.41549296, 73.27513228,\n",
       "        74.41      , 65.84313725, 48.14035088, 87.72868217, 43.6       ,\n",
       "        48.14035088, 56.95890411, 79.03      , 80.92553191, 47.42465753,\n",
       "        40.54945055, 54.29133858, 78.96521739, 47.91111111, 77.00324675,\n",
       "        56.10869565, 45.06493506, 72.10778443, 61.08823529, 46.52991453,\n",
       "        67.29710145, 57.09160305, 51.02651515, 56.95890411, 80.41880342,\n",
       "        76.14193548, 88.27941176, 85.35294118, 52.44444444, 47.06164384,\n",
       "        83.14876033, 88.76666667, 57.09160305, 68.81212121, 66.01449275,\n",
       "        69.45378151, 53.85294118, 77.00324675, 68.81212121, 75.90495868,\n",
       "        55.88323353, 82.84126984, 55.03655352, 77.87121212, 55.03655352,\n",
       "        40.87356322, 59.51724138, 45.06493506, 57.97790055, 44.07826087,\n",
       "        62.76896552, 44.97575758, 67.5410628 , 80.09677419, 55.03655352,\n",
       "        72.05555556, 72.10778443, 45.06493506, 77.13122172, 71.75555556,\n",
       "        70.4368932 , 76.88095238, 48.58415842, 60.06220096, 54.45341615,\n",
       "        76.86805556, 77.51219512, 78.24528302, 60.06220096, 54.45341615,\n",
       "        62.42857143, 76.86805556, 75.3028169 , 25.79166667, 73.27513228,\n",
       "        77.46315789, 80.80788177, 62.74324324, 81.49473684, 72.05555556,\n",
       "        72.10778443, 69.45378151, 80.41880342, 64.92146597, 53.95327103,\n",
       "        66.01449275, 56.17073171, 55.03655352, 56.66363636, 80.80788177,\n",
       "        78.95767196, 48.14035088, 60.62337662, 67.41549296, 61.75330396,\n",
       "        45.12244898, 87.56603774, 67.5410628 , 43.12173913, 76.86805556,\n",
       "        68.81212121, 60.81182796, 53.95327103, 52.44444444, 88.27941176,\n",
       "        61.75330396, 68.81212121, 38.18518519, 54.45341615, 62.74324324,\n",
       "        75.65292096, 81.35714286, 78.24528302, 79.03      , 56.1372549 ,\n",
       "        45.06493506, 76.34313725, 87.89130435, 80.52666667, 78.80952381,\n",
       "        55.03655352, 78.95767196, 65.52272727, 74.41      , 58.42857143,\n",
       "        69.45378151, 69.45378151, 30.78571429, 83.66964286, 77.87121212,\n",
       "        53.95327103, 67.41549296, 67.41549296, 64.92146597, 84.09243697,\n",
       "        77.46315789, 65.06756757, 54.45341615, 57.72666667, 72.10778443,\n",
       "        37.42352941, 42.42537313, 47.80701754, 75.65292096, 87.94444444,\n",
       "        52.99742931, 70.16129032, 89.55263158, 75.3       , 70.16129032,\n",
       "        79.5380117 , 47.80701754, 52.33513514, 48.58415842, 52.99742931,\n",
       "        88.76666667, 48.06285714, 53.01176471, 90.33663366, 56.69642857,\n",
       "        75.90495868, 70.16129032, 70.4368932 , 58.32677165, 67.41549296,\n",
       "        51.49230769, 62.2248996 , 26.        , 56.95890411, 80.0754717 ,\n",
       "        76.80808081, 70.4368932 , 48.52941176, 90.33663366, 78.95767196,\n",
       "        61.75330396, 76.54268293, 67.5410628 , 70.4368932 , 72.10778443,\n",
       "        70.4368932 , 88.76666667, 90.84      , 66.72      , 48.85148515,\n",
       "        52.99742931, 61.08823529, 52.99742931, 75.90495868, 57.97790055,\n",
       "        57.97790055, 77.89375   , 77.51219512, 64.57627119, 71.75555556]),\n",
       " 'XGBRegressor': array([55.329582, 75.95409 , 46.355637, 68.691284, 67.13276 , 74.475525,\n",
       "        59.758312, 50.049328, 90.79684 , 31.672913, 45.927635, 57.998997,\n",
       "        78.52643 , 90.54839 , 46.72456 , 34.84417 , 52.11162 , 75.273094,\n",
       "        52.25504 , 82.23214 , 52.884975, 43.44627 , 76.47017 , 63.992947,\n",
       "        51.755737, 67.14152 , 66.68844 , 51.62941 , 58.39424 , 74.59439 ,\n",
       "        75.41127 , 85.31754 , 89.452484, 55.17919 , 46.59745 , 92.24806 ,\n",
       "        86.73999 , 62.58503 , 66.12719 , 68.28348 , 72.52947 , 61.437145,\n",
       "        72.82097 , 67.085266, 71.94826 , 51.179646, 77.84237 , 54.161453,\n",
       "        73.07049 , 53.89822 , 40.122303, 58.881596, 43.0626  , 64.0528  ,\n",
       "        39.774666, 62.099987, 52.12312 , 64.579956, 80.75479 , 54.695053,\n",
       "        65.3213  , 71.60268 , 49.188023, 76.44161 , 69.67197 , 66.89588 ,\n",
       "        74.36317 , 46.3617  , 64.59754 , 57.48621 , 75.009514, 81.679726,\n",
       "        77.0687  , 60.985554, 54.916115, 64.70234 , 73.446075, 76.354164,\n",
       "        19.220165, 72.55841 , 75.509766, 77.899445, 69.08013 , 93.51619 ,\n",
       "        83.69079 , 65.232315, 64.60092 , 78.35299 , 60.136105, 43.653778,\n",
       "        62.012733, 63.34854 , 52.83023 , 54.100296, 86.290924, 79.67468 ,\n",
       "        48.03608 , 65.9858  , 61.216934, 65.2923  , 37.99962 , 93.759964,\n",
       "        70.32228 , 37.03239 , 78.97512 , 69.56333 , 52.31689 , 43.15147 ,\n",
       "        47.997543, 93.96228 , 72.646286, 66.86299 , 30.65528 , 53.926792,\n",
       "        74.05078 , 72.6494  , 85.45759 , 75.1114  , 79.818726, 55.330975,\n",
       "        47.401077, 72.89885 , 87.1759  , 89.05628 , 74.90448 , 53.08515 ,\n",
       "        81.10912 , 63.007755, 71.10119 , 62.746   , 66.87345 , 73.484245,\n",
       "        29.218895, 94.20732 , 76.55091 , 53.98811 , 71.019585, 66.67984 ,\n",
       "        67.4371  , 87.45723 , 71.966705, 61.391792, 52.681152, 62.847435,\n",
       "        71.698845, 39.334927, 42.278458, 48.877277, 70.85685 , 92.79685 ,\n",
       "        53.077496, 66.989235, 98.81077 , 71.4979  , 67.621956, 81.2472  ,\n",
       "        45.083706, 52.85942 , 47.03325 , 54.804947, 82.7294  , 44.77421 ,\n",
       "        57.778442, 94.57341 , 57.753304, 64.66517 , 71.90058 , 72.67042 ,\n",
       "        61.70267 , 68.07845 , 43.205894, 59.803043, 31.97737 , 58.609406,\n",
       "        78.963425, 75.28956 , 68.32807 , 51.46214 , 90.03837 , 89.13828 ,\n",
       "        68.43205 , 76.48799 , 66.1053  , 69.74338 , 69.89945 , 69.80714 ,\n",
       "        97.79215 , 93.17074 , 67.45113 , 54.29522 , 54.62738 , 61.675068,\n",
       "        53.902477, 79.52375 , 69.519745, 59.109123, 75.509094, 81.493454,\n",
       "        61.168575, 69.09549 ], dtype=float32)}"
      ]
     },
     "execution_count": 66,
     "metadata": {},
     "output_type": "execute_result"
    }
   ],
   "source": [
    "model_pred"
   ]
  },
  {
   "cell_type": "code",
   "execution_count": 68,
   "id": "e680c624-ab5a-4ec8-94da-04dbf2e172a9",
   "metadata": {},
   "outputs": [
    {
     "data": {
      "text/plain": [
       "993    62\n",
       "859    87\n",
       "298    40\n",
       "553    77\n",
       "672    69\n",
       "       ..\n",
       "679    63\n",
       "722    74\n",
       "215    84\n",
       "653    65\n",
       "150    62\n",
       "Name: math score, Length: 200, dtype: int64"
      ]
     },
     "execution_count": 68,
     "metadata": {},
     "output_type": "execute_result"
    }
   ],
   "source": [
    "y_test"
   ]
  },
  {
   "cell_type": "code",
   "execution_count": null,
   "id": "2a831d68-693a-4227-897b-cf5317e17991",
   "metadata": {},
   "outputs": [],
   "source": []
  }
 ],
 "metadata": {
  "kernelspec": {
   "display_name": "Python 3 (ipykernel)",
   "language": "python",
   "name": "python3"
  },
  "language_info": {
   "codemirror_mode": {
    "name": "ipython",
    "version": 3
   },
   "file_extension": ".py",
   "mimetype": "text/x-python",
   "name": "python",
   "nbconvert_exporter": "python",
   "pygments_lexer": "ipython3",
   "version": "3.12.4"
  }
 },
 "nbformat": 4,
 "nbformat_minor": 5
}
